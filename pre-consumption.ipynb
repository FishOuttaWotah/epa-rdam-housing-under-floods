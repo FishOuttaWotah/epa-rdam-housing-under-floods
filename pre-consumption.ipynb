{
 "cells": [
  {
   "cell_type": "code",
   "execution_count": 1,
   "metadata": {
    "collapsed": true,
    "pycharm": {
     "name": "#%%\n"
    }
   },
   "outputs": [],
   "source": [
    "import pandas as pd\n",
    "import seaborn as sns"
   ]
  },
  {
   "cell_type": "code",
   "execution_count": 2,
   "outputs": [],
   "source": [
    "# uses the 2020 disposable income metrics (national)\n",
    "cons_raw = pd.read_csv('data/consumption_percentages_2020_disposableincome.csv', sep=';', decimal=',', comment='#', header=0, index_col=0)\n",
    "# clear out unnecessary columns\n",
    "cons_raw.drop(['year', 'total'], axis=1, inplace=True)\n",
    "# rename the indices\n",
    "cons_raw.index = [f'{num}th' for num, _ in enumerate(cons_raw.index)]"
   ],
   "metadata": {
    "collapsed": false,
    "pycharm": {
     "name": "#%%\n"
    }
   }
  },
  {
   "cell_type": "code",
   "execution_count": null,
   "outputs": [],
   "source": [
    "# shrink items to necessary/unnecessary consumption\n",
    "cons_1st_items = ['food_drinks', 'house_monthly_expenses', 'health', 'transport', 'communication', 'education']\n",
    "cons_2nd_items = ['charities', 'restaurants_hotels', 'goods_services', 'recreation_culture', 'household_appliances', 'clothing', 'alcohol_tobacco', 'consumption_taxes']\n",
    "\n",
    "# sanity check\n",
    "# labels = consumption_rates.columns.to_list()\n",
    "# for label in consumption_primary + consumption_secondary:\n",
    "#     if label not in labels:\n",
    "#         print(f'{label} not in columns')\n",
    "#     else:\n",
    "#         labels.remove(label)\n",
    "# print(labels)\n",
    "\n",
    "# combine columns to be one\n",
    "\n",
    "cons_1st = cons_raw[cons_1st_items].sum(axis=1)\n",
    "cons_2nd = cons_raw[cons_2nd_items].sum(axis=1)\n",
    "\n",
    "# create aggregated dataframe\n",
    "cons_combined = pd.DataFrame(data={'primary': cons_1st, 'secondary':cons_2nd}, index=cons_raw.index)"
   ],
   "metadata": {
    "collapsed": false,
    "pycharm": {
     "name": "#%%\n"
    }
   }
  },
  {
   "cell_type": "code",
   "execution_count": 15,
   "outputs": [],
   "source": [
    "# save combined table\n",
    "cons_combined.to_pickle('data_model_inputs/consumption_rates_decile_2020.pickletable')"
   ],
   "metadata": {
    "collapsed": false,
    "pycharm": {
     "name": "#%%\n"
    }
   }
  },
  {
   "cell_type": "code",
   "execution_count": 14,
   "outputs": [
    {
     "data": {
      "text/plain": "<seaborn.axisgrid.FacetGrid at 0x1e826a01760>"
     },
     "execution_count": 14,
     "metadata": {},
     "output_type": "execute_result"
    },
    {
     "data": {
      "text/plain": "<Figure size 442.5x360 with 1 Axes>",
      "image/png": "[encoded data removed]"
     },
     "metadata": {},
     "output_type": "display_data"
    }
   ],
   "source": [
    "# plotty plot plot\n",
    "to_plot = pd.melt(cons_combined, value_vars=['primary','secondary'], ignore_index=False)\n",
    "sns.relplot(data=to_plot, x=to_plot.index, y='value',hue='variable')\n",
    "# can make a linear interpolation for points (since 1 is the (100-x) of the other"
   ],
   "metadata": {
    "collapsed": false,
    "pycharm": {
     "name": "#%%\n"
    }
   }
  }
 ],
 "metadata": {
  "kernelspec": {
   "display_name": "Python 3",
   "language": "python",
   "name": "python3"
  },
  "language_info": {
   "codemirror_mode": {
    "name": "ipython",
    "version": 2
   },
   "file_extension": ".py",
   "mimetype": "text/x-python",
   "name": "python",
   "nbconvert_exporter": "python",
   "pygments_lexer": "ipython2",
   "version": "2.7.6"
  }
 },
 "nbformat": 4,
 "nbformat_minor": 0
}