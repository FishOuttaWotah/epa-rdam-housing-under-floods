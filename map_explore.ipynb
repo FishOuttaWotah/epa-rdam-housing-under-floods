{
 "cells": [
  {
   "cell_type": "code",
   "execution_count": 1,
   "metadata": {
    "collapsed": true,
    "pycharm": {
     "name": "#%%\n"
    }
   },
   "outputs": [],
   "source": [
    "import numpy as np\n",
    "import pandas as pd\n",
    "from PIL import Image\n",
    "import rasterio\n",
    "import rasterio.mask\n",
    "from rasterio.plot import show\n",
    "import geopandas as gpd\n",
    "import fiona\n",
    "import os\n",
    "import matplotlib.pyplot as plt\n",
    "from util_data_exploration import get_tile_images, reconvert_np_to_rasterio_dataset"
   ]
  },
  {
   "cell_type": "code",
   "execution_count": 2,
   "outputs": [],
   "source": [
    "scenario_path = 'data/Mflood1_grotekans/MaximaleWaterdiepteNederland_Kaart1.tif'\n",
    "scenario_folders = [\n",
    "    'data/Mflood1_grotekans/MaximaleWaterdiepteNederland_Kaart1.tif',\n",
    "    'data/Mflood2_middelgrotekans/MaximaleWaterdiepteNederland_Kaart2.tif',\n",
    "    'data/Mflood3_kleinekans/MaximaleWaterdiepteNederland_Kaart3.tif',\n",
    "    'data/Mflood4_zeerkleinkans/MaximaleWaterdiepteNederland_Kaart4.tif',\n",
    "    'data/Mflood5_extreemkleinekans/MaximaleWaterdiepteNederland_Kaart5.tif']\n",
    "# with rasterio.open(scenario_path) as NL_map:\n",
    "flood_maps = [rasterio.open(path) for path in scenario_folders]\n",
    "flood_map = rasterio.open(scenario_path)\n",
    "wijken = gpd.read_file('data/wijk_geometries.shp')\n",
    "buurten = gpd.read_file('data/Rdam_buurten_shape.shp')\n",
    "rdam_dsm_map = rasterio.open('data/rdam_topo_map.tif')\n",
    "# Mask using shapefile\n",
    "buurt_geometries = buurten.geometry.to_list()\n",
    "df_flood_submaps = pd.read_pickle('data/df_flood_submaps.pkl.gz')\n",
    "wijk_names = pd.read_pickle('data/wijk_names.pkl.gz')\n",
    "rdam_land_bool_map = rasterio.open('data/rdam_topo_bool_map.tif')"
   ],
   "metadata": {
    "collapsed": false,
    "pycharm": {
     "name": "#%%\n"
    }
   }
  },
  {
   "cell_type": "markdown",
   "source": [
    "## Merge DSM tiles into one image (one-time item, reactivate whenever necessary)\n",
    "Procedure:\n",
    "1. Retrieve all items from directory to be merged with\n",
    "2. Open all items into list\n",
    "3. Use rasterio.merge to save all into TIFF image for future use"
   ],
   "metadata": {
    "collapsed": false,
    "pycharm": {
     "name": "#%% md\n"
    }
   }
  },
  {
   "cell_type": "code",
   "execution_count": 3,
   "outputs": [],
   "source": [
    "# import rasterio.merge # ad hoc import\n",
    "# # sanity check for tiff format\n",
    "#\n",
    "# path = 'data/DSMs/'\n",
    "# dtm_files = [f for f in os.listdir(path) if '.tif' in f.lower()]\n",
    "# # load into list for now\n",
    "# dtm_list = [rasterio.open(f'{path}{name}') for name in dtm_files]\n",
    "#\n",
    "# mosaic, mosaic_trans = rasterio.merge.merge(dtm_list)\n",
    "# f32_inf = 340282346638528859811704183484516925440.00000\n",
    "# # mosaic[mosaic == f32_inf] = np.nan # ALERT: not necessary!\n",
    "#\n",
    "# fig, ax = plt.subplots()\n",
    "# show(mosaic, transform=mosaic_trans,ax=ax)\n",
    "# # plt.savefig('data/test_map.jpg',dpi=1000)\n",
    "# # Save merged map as TIF image (for further reuse), one-time\n",
    "# with rasterio.open('data/rdam_topo_map.tif',mode='w',count=1,\n",
    "#                    width=mosaic.squeeze().shape[1],\n",
    "#                    height=mosaic.squeeze().shape[0],\n",
    "#                    crs=dtm_list[0].crs,\n",
    "#                    transform=mosaic_trans,\n",
    "#                    dtype=dtm_list[0].dtypes[0]) as dest:\n",
    "#     dest.write(mosaic)"
   ],
   "metadata": {
    "collapsed": false,
    "pycharm": {
     "name": "#%%\n"
    }
   }
  },
  {
   "cell_type": "markdown",
   "source": [
    "## Converting the Topo Map to boolean map for land/water\n"
   ],
   "metadata": {
    "collapsed": false,
    "pycharm": {
     "name": "#%% md\n"
    }
   }
  },
  {
   "cell_type": "code",
   "execution_count": 4,
   "outputs": [],
   "source": [
    "# ## CONVERSION OF TOPO MAP TO LAND/WATER BOOLEAN MAP, SCALED TO SAME FACTOR AS FLOOD MAP\n",
    "# ## get rdam bool of land/water = 1/0 and save\n",
    "# rdam_land_bool_map = rdam_dsm_map.read(1) < 3e38    # where 3e38 ~= numerical infinity\n",
    "# downscale_factor = 5\n",
    "# # np.newaxis creates an extra dummy axis for\n",
    "# test_collapse = get_tile_images(rdam_land_bool_map[:,:,np.newaxis],\n",
    "#                                 width=downscale_factor, height=downscale_factor)\n",
    "#\n",
    "# ## AGGREGATE TO NEW RESOLUTION VIA WATER-BOOL METHOD\n",
    "# # since water/land is simply as 1/0,\n",
    "# test_collapse2 = np.sum(test_collapse,axis=(2,3)).squeeze()\n",
    "# # need to filter out again into binary\n",
    "# test_collapse3 = (test_collapse2 > ((downscale_factor * downscale_factor) //2) + 1).astype(int)\n",
    "#\n",
    "# sanity_check = True\n",
    "# if sanity_check:\n",
    "#     # Sanity check: to see if the delta affects the accuracy of downsampling\n",
    "#     fitting = []\n",
    "#     binary_bound = range(0,25,1)\n",
    "#     for bound in binary_bound:\n",
    "#         fitting.append(np.sum(test_collapse2 > bound))\n",
    "#\n",
    "#     deltas = (fitting-fitting[0])/(test_collapse2.shape[0]*test_collapse2.shape[1])\n",
    "#     plt.scatter(x=binary_bound, y=deltas)\n",
    "#\n",
    "#     \"\"\" The plot below shows x = 'bound limit for accepting the cell as terrain', and y = 'percentage delta of terrain that would increase if the bound increases'.\n",
    "#\n",
    "#     With increasing bound threshold, between 0 <= bound <= 15 the percentage difference is on the order of 0 - 4% (using bound = 0 as a base case). Using the midpoint (25/2 = 12.5) makes for an acceptable bound for aggregation.\n",
    "#     \"\"\""
   ],
   "metadata": {
    "collapsed": false,
    "pycharm": {
     "name": "#%%\n"
    }
   }
  },
  {
   "cell_type": "code",
   "execution_count": 5,
   "outputs": [],
   "source": [
    "# # CORRECT AFFINE TRANSFORM AND RECREATE AS DATASET AGAIN\n",
    "# host_map = rdam_dsm_map # original coordinate bounds\n",
    "# # generate new affine transform\n",
    "# test_collapse3_transform = rasterio.transform.from_bounds(\n",
    "#     west=host_map.bounds.left,\n",
    "#     south=host_map.bounds.bottom,\n",
    "#     east=host_map.bounds.right,\n",
    "#     north=host_map.bounds.top,\n",
    "#     width=test_collapse3.shape[1],\n",
    "#     height=test_collapse3.shape[0]\n",
    "# )\n",
    "# # recreate Rasterio Dataset object\n",
    "# test_collapse4 = reconvert_np_to_rasterio_dataset(test_collapse3, transform=test_collapse3_transform)"
   ],
   "metadata": {
    "collapsed": false,
    "pycharm": {
     "name": "#%%\n"
    }
   }
  },
  {
   "cell_type": "code",
   "execution_count": 6,
   "outputs": [],
   "source": [
    "# # save rasterio dataset object\n",
    "# with rasterio.open('data/rdam_topo_bool_map.tif', mode='w', count=1,\n",
    "#                    width=test_collapse3.shape[1],\n",
    "#                    height=test_collapse3.shape[0],\n",
    "#                    crs=rdam_dsm_map.crs,\n",
    "#                    transform=test_collapse3_transform,\n",
    "#                    dtype=test_collapse3.dtype) as dest:\n",
    "#     dest.write(test_collapse3[np.newaxis])"
   ],
   "metadata": {
    "collapsed": false,
    "pycharm": {
     "name": "#%%\n"
    }
   }
  },
  {
   "cell_type": "code",
   "execution_count": 7,
   "outputs": [],
   "source": [
    "# # current objective: plot the new map over the geo maps to see if they make sense\n",
    "# fig, ax = plt.subplots()\n",
    "# show(test_collapse4,ax=ax,cmap='GnBu')\n",
    "# buurten.plot(ax=ax,\n",
    "#              **{'alpha':0.6,\n",
    "#                      'edgecolor':'w',\n",
    "#                      'facecolor':'lime'\n",
    "#                      })\n",
    "# plt.axis('off')\n",
    "# # fig.savefig('data/test_map.jpg',dpi=1000)"
   ],
   "metadata": {
    "collapsed": false,
    "pycharm": {
     "name": "#%%\n"
    }
   }
  },
  {
   "cell_type": "code",
   "execution_count": 8,
   "outputs": [],
   "source": [
    "# CUT OUT ONLY RDAM SECTOR AND SAVE\n",
    "# rdam_map,rdam_transform = rasterio.mask.mask(nl_map, rdam_geometries,crop=True)\n",
    "rdam_floodmap, rdam_floodtransform = rasterio.mask.mask(flood_map, buurt_geometries, crop=True)"
   ],
   "metadata": {
    "collapsed": false,
    "pycharm": {
     "name": "#%%\n"
    }
   }
  },
  {
   "cell_type": "code",
   "execution_count": 9,
   "outputs": [],
   "source": [
    "# Create container of cut flood maps per wijk, per flood map.\n",
    "\n",
    "# need to create labels (lowercase, spaces converted to hyphen)\n",
    "wijk_names = wijken.WK_NAAM.str.replace(' ', '-').str.lower()\n",
    "wijk_geometries = wijken.geometry\n",
    "\n",
    "# create masks for unflooded and flooded tiles\n",
    "\n",
    "wijk_scenario_labels = []\n",
    "baseline_submaps = []\n",
    "flood_submaps = []\n",
    "\n",
    "# knockout the flood maps with area geo outline\n",
    "for idx, wijk in enumerate(wijk_names):\n",
    "    geo = wijk_geometries[idx]\n",
    "    wijk_scenario_labels.extend([(wijk, number) for number, _ in enumerate(flood_maps)])\n",
    "    flood_submaps.extend([rasterio.mask.mask(f_m, [geo], crop=True, nodata=np.nan) for f_m in flood_maps])\n",
    "\n",
    "# put together the items into nice dict\n",
    "# for idx, label in enumerate(wijk_scenario_labels):\n",
    "# extracc\n",
    "w_names, w_scenarios = zip(*wijk_scenario_labels)\n",
    "w_submaps, w_submap_trans = zip(*flood_submaps)\n",
    "w_indices = ['.'.join([str(number), wijk]) for wijk, number in wijk_scenario_labels]\n",
    "\n",
    "# create dict for column form, and then create dataframe\n",
    "df_flood_submaps = pd.DataFrame.from_dict(\n",
    "    {'index': w_indices,\n",
    "      'wijk': w_names,\n",
    "      'scenario': w_scenarios,\n",
    "      'submap': w_submaps,\n",
    "      'transform': w_submap_trans}, orient='columns').set_index('index')\n"
   ],
   "metadata": {
    "collapsed": false,
    "pycharm": {
     "name": "#%%\n"
    }
   }
  },
  {
   "cell_type": "code",
   "execution_count": 10,
   "outputs": [],
   "source": [
    "# COMPRESS FLOOD SUBMAPS TO PICKLE\n",
    "df_flood_submaps.to_pickle('data/df_flood_submaps.pkl.gz')\n",
    "wijk_names.to_pickle('data/wijk_names.pkl.gz')"
   ],
   "metadata": {
    "collapsed": false,
    "pycharm": {
     "name": "#%%\n"
    }
   }
  },
  {
   "cell_type": "code",
   "execution_count": 11,
   "outputs": [],
   "source": [
    "# Infer water to non-water tiles\n",
    "\n",
    "# create masks for different wijks:\n",
    "# wijk_raw_masks = [rasterio.mask.mask(rdam_dsm_map, [w], crop=True, nodata=np.nan) for w in wijk_geometries]\n",
    "\n",
    "# correct flood maps with inland bodies of water\n",
    "dict_wijk_landmasks = dict(zip(\n",
    "    wijk_names,\n",
    "    [rasterio.mask.mask(rdam_land_bool_map, [g], crop=True, nodata=0) for g in wijk_geometries]\n",
    "))\n",
    "# includes np.ndarray and affine transform object\n",
    "\n",
    "# NOTE: 0 set for non-land values, including water and out-of-bounds territory"
   ],
   "metadata": {
    "collapsed": false,
    "pycharm": {
     "name": "#%%\n"
    }
   }
  },
  {
   "cell_type": "code",
   "execution_count": 12,
   "outputs": [],
   "source": [
    "\n",
    "# assign identification to land area maps\n",
    "# retrieve name for land knockout, use submap\n",
    "# (assumption that the submap is compatible with the transform)\n",
    "# check if all submaps match the landmask (sanity check)\n",
    "\n",
    "# unit development:\n",
    "# iterate through rows? -> np.vectorize()\n",
    "# look at column\n",
    "# check shape match\n",
    "# update floodmap item\n",
    "test_submap = df_flood_submaps.loc['2.delfshaven','submap'].squeeze()\n",
    "test_landmask = dict_wijk_landmasks['delfshaven'][0].squeeze().astype(bool) # force conversion to bool needed\n",
    "\n",
    "\n",
    "# using np.where preserves the 2d order instead of a bool mask\n",
    "test_output = np.where(test_landmask, test_submap, test_submap.min())\n",
    "\n",
    "# iterate over rows\n",
    "# use the name of the area for retrieval input to dict_wijk_landmasks\n",
    "# use numpy vectorize"
   ],
   "metadata": {
    "collapsed": false,
    "pycharm": {
     "name": "#%%\n"
    }
   }
  },
  {
   "cell_type": "code",
   "execution_count": 26,
   "outputs": [],
   "source": [
    "col_pct_flood = []\n",
    "col_depth_distribution = []\n",
    "col_flood_tiles = []\n",
    "col_land_tiles = []\n",
    "col_new_submaps = []\n",
    "for submap_idx in df_flood_submaps.index:\n",
    "    submap = df_flood_submaps.loc[submap_idx,'submap'].squeeze()\n",
    "    landmask = dict_wijk_landmasks[df_flood_submaps.loc[submap_idx,'wijk']][0].squeeze().astype(bool)\n",
    "    corrected_submap = np.where(landmask, submap, submap.min())\n",
    "    # total area in arbitrary units\n",
    "    land_count = landmask.sum()\n",
    "    flood_distr = corrected_submap[corrected_submap > -9999.]\n",
    "    flood_count = (corrected_submap > -9999.).sum()\n",
    "    # print(land_count,flood_count)\n",
    "    col_depth_distribution.append(flood_distr)\n",
    "    col_pct_flood.append(flood_count/land_count)\n",
    "    col_land_tiles.append(land_count)\n",
    "    col_flood_tiles.append(flood_count)\n",
    "    col_new_submaps.append(corrected_submap)\n",
    "\n",
    "df_flood_submaps['land_tiles'] = col_land_tiles\n",
    "df_flood_submaps['flood_tiles'] = col_flood_tiles\n",
    "df_flood_submaps['flood_depths'] = col_depth_distribution\n",
    "df_flood_submaps['flood_pct_landmass'] = col_pct_flood\n",
    "df_flood_submaps.submap = col_new_submaps\n",
    "\n",
    "##  want to plot the distribution of flood effects"
   ],
   "metadata": {
    "collapsed": false,
    "pycharm": {
     "name": "#%%\n"
    }
   }
  },
  {
   "cell_type": "markdown",
   "source": [],
   "metadata": {
    "collapsed": false,
    "pycharm": {
     "name": "#%% md\n"
    }
   }
  },
  {
   "cell_type": "code",
   "execution_count": 14,
   "outputs": [
    {
     "name": "stdout",
     "output_type": "stream",
     "text": [
      "9550\n",
      "8254\n",
      "2049\n"
     ]
    }
   ],
   "source": [
    "# show(test_submap)\n",
    "# total landmass (unit undefined yet)\n",
    "print(np.isfinite(test_submap).sum())\n",
    "print(test_landmask.sum())\n",
    "print((test_output > -9999.).sum()) # tells how much points are actually flooded\n",
    "\n"
   ],
   "metadata": {
    "collapsed": false,
    "pycharm": {
     "name": "#%%\n"
    }
   }
  },
  {
   "cell_type": "code",
   "execution_count": 15,
   "outputs": [
    {
     "data": {
      "text/plain": "<Figure size 432x288 with 1 Axes>",
      "image/png": "[encoded data removed]"
     },
     "metadata": {},
     "output_type": "display_data"
    },
    {
     "data": {
      "text/plain": "<AxesSubplot:>"
     },
     "execution_count": 15,
     "metadata": {},
     "output_type": "execute_result"
    }
   ],
   "source": [
    "# plot both to see\n",
    "show(test_output)"
   ],
   "metadata": {
    "collapsed": false,
    "pycharm": {
     "name": "#%%\n"
    }
   }
  },
  {
   "cell_type": "code",
   "execution_count": 16,
   "outputs": [],
   "source": [
    "#"
   ],
   "metadata": {
    "collapsed": false,
    "pycharm": {
     "name": "#%%\n"
    }
   }
  },
  {
   "cell_type": "code",
   "execution_count": 17,
   "outputs": [],
   "source": [
    "## NOTE: THIS PLOTS A LOT OF MAPS. Be selective.\n",
    "# for wijk, transform in flood_submaps:\n",
    "#     show(wijk, cmap='GnBu',transform=transform)"
   ],
   "metadata": {
    "collapsed": false,
    "pycharm": {
     "name": "#%%\n"
    }
   }
  },
  {
   "cell_type": "code",
   "execution_count": 18,
   "outputs": [],
   "source": [
    "## Create map of rdam with waterways\n",
    "# rdam_map, rdam_transform = rasterio.mask.mask(rdam_dtm_map, rdam_geometries, crop=True, nodata=np.nan)\n",
    "# # create rdam map:\n",
    "# fig, ax = plt.subplots()\n",
    "# show(rdam_map,cmap='GnBu', transform=rdam_transform,ax=ax)\n",
    "# plt.savefig('data/rdam_map.jpg', dpi=800)"
   ],
   "metadata": {
    "collapsed": false,
    "pycharm": {
     "name": "#%%\n"
    }
   }
  },
  {
   "cell_type": "code",
   "execution_count": 19,
   "outputs": [],
   "source": [
    "# for image, transform in wijk_masks:\n",
    "\n",
    "    # show(image,transform=transform, cmap='GnBu')\n",
    "\n",
    "# the water is numerical inf!"
   ],
   "metadata": {
    "collapsed": false,
    "pycharm": {
     "name": "#%%\n"
    }
   }
  },
  {
   "cell_type": "code",
   "execution_count": 20,
   "outputs": [
    {
     "ename": "NameError",
     "evalue": "name 'rdam_scenarios' is not defined",
     "output_type": "error",
     "traceback": [
      "\u001B[1;31m---------------------------------------------------------------------------\u001B[0m",
      "\u001B[1;31mNameError\u001B[0m                                 Traceback (most recent call last)",
      "\u001B[1;32m~\\AppData\\Local\\Temp/ipykernel_20352/1298088108.py\u001B[0m in \u001B[0;36m<module>\u001B[1;34m\u001B[0m\n\u001B[0;32m      1\u001B[0m \u001B[0mcounter\u001B[0m \u001B[1;33m=\u001B[0m \u001B[1;36m1\u001B[0m\u001B[1;33m\u001B[0m\u001B[1;33m\u001B[0m\u001B[0m\n\u001B[1;32m----> 2\u001B[1;33m \u001B[1;32mfor\u001B[0m \u001B[0mscenario\u001B[0m\u001B[1;33m,\u001B[0m \u001B[0mtransform\u001B[0m \u001B[1;32min\u001B[0m \u001B[0mrdam_scenarios\u001B[0m\u001B[1;33m:\u001B[0m\u001B[1;33m\u001B[0m\u001B[1;33m\u001B[0m\u001B[0m\n\u001B[0m\u001B[0;32m      3\u001B[0m     \u001B[0mfig\u001B[0m\u001B[1;33m,\u001B[0m \u001B[0max\u001B[0m \u001B[1;33m=\u001B[0m \u001B[0mplt\u001B[0m\u001B[1;33m.\u001B[0m\u001B[0msubplots\u001B[0m\u001B[1;33m(\u001B[0m\u001B[1;33m)\u001B[0m\u001B[1;33m\u001B[0m\u001B[1;33m\u001B[0m\u001B[0m\n\u001B[0;32m      4\u001B[0m     \u001B[1;31m# print(scenario.squeeze())\u001B[0m\u001B[1;33m\u001B[0m\u001B[1;33m\u001B[0m\u001B[0m\n\u001B[0;32m      5\u001B[0m     \u001B[1;31m# plt.imshow(scenario.squeeze()) # squeeze reduces dimensions of 1\u001B[0m\u001B[1;33m\u001B[0m\u001B[1;33m\u001B[0m\u001B[0m\n",
      "\u001B[1;31mNameError\u001B[0m: name 'rdam_scenarios' is not defined"
     ]
    }
   ],
   "source": [
    "counter = 1\n",
    "for scenario, transform in rdam_scenarios:\n",
    "    fig, ax = plt.subplots()\n",
    "    # print(scenario.squeeze())\n",
    "    # plt.imshow(scenario.squeeze()) # squeeze reduces dimensions of 1\n",
    "    show(scenario, cmap='viridis', transform=transform, ax=ax)\n",
    "    plt.savefig(f'data/flood_scenario_{counter}.png', dpi=800)\n",
    "    counter += 1\n",
    "\"\"\"\n",
    "note that some areas are covered in -9999 suggesting these are non-water tiles?\n",
    "prolly need to save the stuff as numpy array instead of tiff again\n",
    "now have a location of 723x1763 pixels (need to see how it scales)\n",
    "\"\"\""
   ],
   "metadata": {
    "collapsed": false,
    "pycharm": {
     "name": "#%%\n"
    }
   }
  },
  {
   "cell_type": "code",
   "execution_count": null,
   "outputs": [],
   "source": [
    "show(rdam_floodmap, cmap='viridis', transform=rdam_floodtransform)"
   ],
   "metadata": {
    "collapsed": false,
    "pycharm": {
     "name": "#%%\n"
    }
   }
  },
  {
   "cell_type": "markdown",
   "source": [
    "Need to find proportion of flood-vulnerable tiles (severity vs risk in the wijk) per wijk\n",
    "- gotten the spatial merge dataset (need to merge into one set, and also cut out for Rdam)\n",
    "- get total non-0 space (area) and count distribution of flooded areas (in bins of cm?)\n",
    "-"
   ],
   "metadata": {
    "collapsed": false,
    "pycharm": {
     "name": "#%% md\n"
    }
   }
  }
 ],
 "metadata": {
  "kernelspec": {
   "display_name": "Python 3",
   "language": "python",
   "name": "python3"
  },
  "language_info": {
   "codemirror_mode": {
    "name": "ipython",
    "version": 2
   },
   "file_extension": ".py",
   "mimetype": "text/x-python",
   "name": "python",
   "nbconvert_exporter": "python",
   "pygments_lexer": "ipython2",
   "version": "2.7.6"
  }
 },
 "nbformat": 4,
 "nbformat_minor": 0
}