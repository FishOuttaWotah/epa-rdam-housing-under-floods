{
 "cells": [
  {
   "cell_type": "code",
   "execution_count": 1,
   "metadata": {
    "collapsed": true,
    "pycharm": {
     "name": "#%%\n"
    }
   },
   "outputs": [],
   "source": [
    "from pyzotero import zotero\n",
    "\n",
    "# constants\n",
    "lib_id: str = '8440727'\n",
    "lib_type: str = 'user'\n",
    "api_key: str = 'cbwD98D84U7hehFMujBzPeT3'\n",
    "zot_acc = zotero.Zotero(lib_id, lib_type, api_key)  # gain access\n"
   ]
  },
  {
   "cell_type": "code",
   "execution_count": 8,
   "outputs": [
    {
     "data": {
      "text/plain": "{'key': 'cbwD98D84U7hehFMujBzPeT3',\n 'userID': 8440727,\n 'username': 'FishOutOfWater',\n 'displayName': '',\n 'access': {'user': {'library': True,\n   'files': True,\n   'notes': True,\n   'write': True}}}"
     },
     "execution_count": 8,
     "metadata": {},
     "output_type": "execute_result"
    }
   ],
   "source": [
    "zot_acc.key_info()  # skim user's information"
   ],
   "metadata": {
    "collapsed": false,
    "pycharm": {
     "name": "#%%\n"
    }
   }
  },
  {
   "cell_type": "code",
   "execution_count": 10,
   "outputs": [],
   "source": [
    "tags = zot_acc.everything(zot_acc.tags())"
   ],
   "metadata": {
    "collapsed": false,
    "pycharm": {
     "name": "#%%\n"
    }
   }
  },
  {
   "cell_type": "code",
   "execution_count": 7,
   "outputs": [],
   "source": [
    "# chunk the tags into blocks of 50\n",
    "block_size = 50\n",
    "n_blocks = (len(tags) // block_size) + 1  # number of blocks\n",
    "# split to blocks of lists\n",
    "tags_to_remove = [tags[block_idx * block_size: (block_idx + 1) * block_size] for block_idx in range(n_blocks)]"
   ],
   "metadata": {
    "collapsed": false,
    "pycharm": {
     "name": "#%%\n"
    }
   }
  },
  {
   "cell_type": "code",
   "execution_count": 9,
   "outputs": [],
   "source": [
    "# run tag destroyer\n",
    "for tag_chunk in tags_to_remove:\n",
    "    zot_acc.delete_tags(*tag_chunk)"
   ],
   "metadata": {
    "collapsed": false,
    "pycharm": {
     "name": "#%%\n"
    }
   }
  }
 ],
 "metadata": {
  "kernelspec": {
   "display_name": "Python 3",
   "language": "python",
   "name": "python3"
  },
  "language_info": {
   "codemirror_mode": {
    "name": "ipython",
    "version": 2
   },
   "file_extension": ".py",
   "mimetype": "text/x-python",
   "name": "python",
   "nbconvert_exporter": "python",
   "pygments_lexer": "ipython2",
   "version": "2.7.6"
  }
 },
 "nbformat": 4,
 "nbformat_minor": 0
}