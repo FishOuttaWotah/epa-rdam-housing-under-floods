{
 "cells": [
  {
   "cell_type": "code",
   "execution_count": 1,
   "metadata": {
    "collapsed": true,
    "pycharm": {
     "name": "#%%\n"
    }
   },
   "outputs": [
    {
     "data": {
      "text/plain": "'nl_nl'"
     },
     "execution_count": 1,
     "metadata": {},
     "output_type": "execute_result"
    }
   ],
   "source": [
    "import pandas as pd\n",
    "import numpy as np\n",
    "import seaborn as sns\n",
    "import matplotlib.pyplot as plt\n",
    "from scipy.interpolate import interp1d\n",
    "from locale import atof, setlocale, LC_NUMERIC\n",
    "import pickle\n",
    "setlocale(LC_NUMERIC,'nl_nl')"
   ]
  },
  {
   "cell_type": "code",
   "execution_count": 2,
   "outputs": [],
   "source": [
    "# to list the locales available\n",
    "# locale.locale_alias\n",
    "# dutch version : nl_NL.ISO8859-15\n",
    "# only required for identifying str to float for niche section"
   ],
   "metadata": {
    "collapsed": false,
    "pycharm": {
     "name": "#%%\n"
    }
   }
  },
  {
   "cell_type": "code",
   "execution_count": 3,
   "outputs": [
    {
     "ename": "FileNotFoundError",
     "evalue": "[Errno 2] No such file or directory: 'data/mortgage_max_burden_rates_NIBUD.xlsx'",
     "output_type": "error",
     "traceback": [
      "\u001B[1;31m---------------------------------------------------------------------------\u001B[0m",
      "\u001B[1;31mFileNotFoundError\u001B[0m                         Traceback (most recent call last)",
      "\u001B[1;32m~\\AppData\\Local\\Temp/ipykernel_39184/2979196636.py\u001B[0m in \u001B[0;36m<module>\u001B[1;34m\u001B[0m\n\u001B[0;32m      1\u001B[0m \u001B[1;31m# read the mortgage tabular data from NIBUD\u001B[0m\u001B[1;33m\u001B[0m\u001B[1;33m\u001B[0m\u001B[0m\n\u001B[0;32m      2\u001B[0m \u001B[1;31m# note that these are percentage points\u001B[0m\u001B[1;33m\u001B[0m\u001B[1;33m\u001B[0m\u001B[0m\n\u001B[1;32m----> 3\u001B[1;33m nibud_table = pd.read_excel('data/mortgage_max_burden_rates_NIBUD.xlsx', header=0, index_col=0).drop(\n\u001B[0m\u001B[0;32m      4\u001B[0m     labels='bruto inkomen')\n",
      "\u001B[1;32md:\\Users\\fishe\\anaconda3\\envs\\tpm-aabm-2\\lib\\site-packages\\pandas\\util\\_decorators.py\u001B[0m in \u001B[0;36mwrapper\u001B[1;34m(*args, **kwargs)\u001B[0m\n\u001B[0;32m    309\u001B[0m                     \u001B[0mstacklevel\u001B[0m\u001B[1;33m=\u001B[0m\u001B[0mstacklevel\u001B[0m\u001B[1;33m,\u001B[0m\u001B[1;33m\u001B[0m\u001B[1;33m\u001B[0m\u001B[0m\n\u001B[0;32m    310\u001B[0m                 )\n\u001B[1;32m--> 311\u001B[1;33m             \u001B[1;32mreturn\u001B[0m \u001B[0mfunc\u001B[0m\u001B[1;33m(\u001B[0m\u001B[1;33m*\u001B[0m\u001B[0margs\u001B[0m\u001B[1;33m,\u001B[0m \u001B[1;33m**\u001B[0m\u001B[0mkwargs\u001B[0m\u001B[1;33m)\u001B[0m\u001B[1;33m\u001B[0m\u001B[1;33m\u001B[0m\u001B[0m\n\u001B[0m\u001B[0;32m    312\u001B[0m \u001B[1;33m\u001B[0m\u001B[0m\n\u001B[0;32m    313\u001B[0m         \u001B[1;32mreturn\u001B[0m \u001B[0mwrapper\u001B[0m\u001B[1;33m\u001B[0m\u001B[1;33m\u001B[0m\u001B[0m\n",
      "\u001B[1;32md:\\Users\\fishe\\anaconda3\\envs\\tpm-aabm-2\\lib\\site-packages\\pandas\\io\\excel\\_base.py\u001B[0m in \u001B[0;36mread_excel\u001B[1;34m(io, sheet_name, header, names, index_col, usecols, squeeze, dtype, engine, converters, true_values, false_values, skiprows, nrows, na_values, keep_default_na, na_filter, verbose, parse_dates, date_parser, thousands, decimal, comment, skipfooter, convert_float, mangle_dupe_cols, storage_options)\u001B[0m\n\u001B[0;32m    455\u001B[0m     \u001B[1;32mif\u001B[0m \u001B[1;32mnot\u001B[0m \u001B[0misinstance\u001B[0m\u001B[1;33m(\u001B[0m\u001B[0mio\u001B[0m\u001B[1;33m,\u001B[0m \u001B[0mExcelFile\u001B[0m\u001B[1;33m)\u001B[0m\u001B[1;33m:\u001B[0m\u001B[1;33m\u001B[0m\u001B[1;33m\u001B[0m\u001B[0m\n\u001B[0;32m    456\u001B[0m         \u001B[0mshould_close\u001B[0m \u001B[1;33m=\u001B[0m \u001B[1;32mTrue\u001B[0m\u001B[1;33m\u001B[0m\u001B[1;33m\u001B[0m\u001B[0m\n\u001B[1;32m--> 457\u001B[1;33m         \u001B[0mio\u001B[0m \u001B[1;33m=\u001B[0m \u001B[0mExcelFile\u001B[0m\u001B[1;33m(\u001B[0m\u001B[0mio\u001B[0m\u001B[1;33m,\u001B[0m \u001B[0mstorage_options\u001B[0m\u001B[1;33m=\u001B[0m\u001B[0mstorage_options\u001B[0m\u001B[1;33m,\u001B[0m \u001B[0mengine\u001B[0m\u001B[1;33m=\u001B[0m\u001B[0mengine\u001B[0m\u001B[1;33m)\u001B[0m\u001B[1;33m\u001B[0m\u001B[1;33m\u001B[0m\u001B[0m\n\u001B[0m\u001B[0;32m    458\u001B[0m     \u001B[1;32melif\u001B[0m \u001B[0mengine\u001B[0m \u001B[1;32mand\u001B[0m \u001B[0mengine\u001B[0m \u001B[1;33m!=\u001B[0m \u001B[0mio\u001B[0m\u001B[1;33m.\u001B[0m\u001B[0mengine\u001B[0m\u001B[1;33m:\u001B[0m\u001B[1;33m\u001B[0m\u001B[1;33m\u001B[0m\u001B[0m\n\u001B[0;32m    459\u001B[0m         raise ValueError(\n",
      "\u001B[1;32md:\\Users\\fishe\\anaconda3\\envs\\tpm-aabm-2\\lib\\site-packages\\pandas\\io\\excel\\_base.py\u001B[0m in \u001B[0;36m__init__\u001B[1;34m(self, path_or_buffer, engine, storage_options)\u001B[0m\n\u001B[0;32m   1374\u001B[0m                 \u001B[0mext\u001B[0m \u001B[1;33m=\u001B[0m \u001B[1;34m\"xls\"\u001B[0m\u001B[1;33m\u001B[0m\u001B[1;33m\u001B[0m\u001B[0m\n\u001B[0;32m   1375\u001B[0m             \u001B[1;32melse\u001B[0m\u001B[1;33m:\u001B[0m\u001B[1;33m\u001B[0m\u001B[1;33m\u001B[0m\u001B[0m\n\u001B[1;32m-> 1376\u001B[1;33m                 ext = inspect_excel_format(\n\u001B[0m\u001B[0;32m   1377\u001B[0m                     \u001B[0mcontent_or_path\u001B[0m\u001B[1;33m=\u001B[0m\u001B[0mpath_or_buffer\u001B[0m\u001B[1;33m,\u001B[0m \u001B[0mstorage_options\u001B[0m\u001B[1;33m=\u001B[0m\u001B[0mstorage_options\u001B[0m\u001B[1;33m\u001B[0m\u001B[1;33m\u001B[0m\u001B[0m\n\u001B[0;32m   1378\u001B[0m                 )\n",
      "\u001B[1;32md:\\Users\\fishe\\anaconda3\\envs\\tpm-aabm-2\\lib\\site-packages\\pandas\\io\\excel\\_base.py\u001B[0m in \u001B[0;36minspect_excel_format\u001B[1;34m(content_or_path, storage_options)\u001B[0m\n\u001B[0;32m   1248\u001B[0m         \u001B[0mcontent_or_path\u001B[0m \u001B[1;33m=\u001B[0m \u001B[0mBytesIO\u001B[0m\u001B[1;33m(\u001B[0m\u001B[0mcontent_or_path\u001B[0m\u001B[1;33m)\u001B[0m\u001B[1;33m\u001B[0m\u001B[1;33m\u001B[0m\u001B[0m\n\u001B[0;32m   1249\u001B[0m \u001B[1;33m\u001B[0m\u001B[0m\n\u001B[1;32m-> 1250\u001B[1;33m     with get_handle(\n\u001B[0m\u001B[0;32m   1251\u001B[0m         \u001B[0mcontent_or_path\u001B[0m\u001B[1;33m,\u001B[0m \u001B[1;34m\"rb\"\u001B[0m\u001B[1;33m,\u001B[0m \u001B[0mstorage_options\u001B[0m\u001B[1;33m=\u001B[0m\u001B[0mstorage_options\u001B[0m\u001B[1;33m,\u001B[0m \u001B[0mis_text\u001B[0m\u001B[1;33m=\u001B[0m\u001B[1;32mFalse\u001B[0m\u001B[1;33m\u001B[0m\u001B[1;33m\u001B[0m\u001B[0m\n\u001B[0;32m   1252\u001B[0m     ) as handle:\n",
      "\u001B[1;32md:\\Users\\fishe\\anaconda3\\envs\\tpm-aabm-2\\lib\\site-packages\\pandas\\io\\common.py\u001B[0m in \u001B[0;36mget_handle\u001B[1;34m(path_or_buf, mode, encoding, compression, memory_map, is_text, errors, storage_options)\u001B[0m\n\u001B[0;32m    793\u001B[0m         \u001B[1;32melse\u001B[0m\u001B[1;33m:\u001B[0m\u001B[1;33m\u001B[0m\u001B[1;33m\u001B[0m\u001B[0m\n\u001B[0;32m    794\u001B[0m             \u001B[1;31m# Binary mode\u001B[0m\u001B[1;33m\u001B[0m\u001B[1;33m\u001B[0m\u001B[0m\n\u001B[1;32m--> 795\u001B[1;33m             \u001B[0mhandle\u001B[0m \u001B[1;33m=\u001B[0m \u001B[0mopen\u001B[0m\u001B[1;33m(\u001B[0m\u001B[0mhandle\u001B[0m\u001B[1;33m,\u001B[0m \u001B[0mioargs\u001B[0m\u001B[1;33m.\u001B[0m\u001B[0mmode\u001B[0m\u001B[1;33m)\u001B[0m\u001B[1;33m\u001B[0m\u001B[1;33m\u001B[0m\u001B[0m\n\u001B[0m\u001B[0;32m    796\u001B[0m         \u001B[0mhandles\u001B[0m\u001B[1;33m.\u001B[0m\u001B[0mappend\u001B[0m\u001B[1;33m(\u001B[0m\u001B[0mhandle\u001B[0m\u001B[1;33m)\u001B[0m\u001B[1;33m\u001B[0m\u001B[1;33m\u001B[0m\u001B[0m\n\u001B[0;32m    797\u001B[0m \u001B[1;33m\u001B[0m\u001B[0m\n",
      "\u001B[1;31mFileNotFoundError\u001B[0m: [Errno 2] No such file or directory: 'data/mortgage_max_burden_rates_NIBUD.xlsx'"
     ]
    }
   ],
   "source": [
    "# read the mortgage tabular data from NIBUD\n",
    "# note that these are percentage points\n",
    "nibud_table = pd.read_excel('data/mortgage_max_burden_rates_NIBUD.xlsx', header=0, index_col=0).drop(\n",
    "    labels='bruto inkomen')"
   ],
   "metadata": {
    "collapsed": false,
    "pycharm": {
     "name": "#%%\n"
    }
   }
  },
  {
   "cell_type": "code",
   "execution_count": null,
   "outputs": [],
   "source": [
    "# shore up the nibud table column names for ease of use\n",
    "cols_floors = [0.] + [atof(label[-6:-1]) for label in nibud_table.columns.to_list()][:-1]"
   ],
   "metadata": {
    "collapsed": false,
    "pycharm": {
     "name": "#%%\n"
    }
   }
  },
  {
   "cell_type": "code",
   "execution_count": null,
   "outputs": [],
   "source": [
    "to_save2 = nibud_table.copy()\n",
    "to_save2.columns = cols_floors\n",
    "to_save2.to_pickle('data_model_inputs/nibud_mortgage_rates_2022.pickletable')"
   ],
   "metadata": {
    "collapsed": false,
    "pycharm": {
     "name": "#%%\n"
    }
   }
  },
  {
   "cell_type": "code",
   "execution_count": null,
   "outputs": [],
   "source": [
    "# extract relevant mortgage values from baseline (may need to expand to include higher mortgage levels)\n",
    "# test_sample = nibud_table.loc[:, ['2,501-3,000%', '3,001-3,500%', '3,501-4,000%', '4,001-4,500%', '4,501-5,000%']]\n",
    "# test_sample.columns = [3., 3.5, 4., 4.5, 5.]\n",
    "# test_sample['ori_idx'] = test_sample.index\n",
    "# test_sample_melt = pd.melt(test_sample,\n",
    "#                            id_vars='ori_idx')"
   ],
   "metadata": {
    "collapsed": false,
    "pycharm": {
     "name": "#%%\n"
    }
   }
  },
  {
   "cell_type": "code",
   "execution_count": null,
   "outputs": [],
   "source": [
    "# look for points where the step change in interest rate happens\n",
    "points = []\n",
    "to_save = {}\n",
    "item_to_extract = nibud_table\n",
    "for col in item_to_extract.columns:\n",
    "    # also generate\n",
    "    # deltas.append(item_to_extract[col][item_to_extract[col].shift() != item_to_extract[col]])\n",
    "    points.append(item_to_extract[col][item_to_extract[col].shift() != item_to_extract[col]])\n",
    "to_save.update(zip(cols_floors,points))"
   ],
   "metadata": {
    "collapsed": false,
    "pycharm": {
     "name": "#%%\n"
    }
   }
  },
  {
   "cell_type": "code",
   "execution_count": null,
   "outputs": [],
   "source": [
    "# save change points to pickle (uncomment as needed)\n",
    "# with open('data_model_inputs/nibud_mortgage_rates_2022.pickledict', 'wb') as open_file:\n",
    "#     pickle.dump(obj=to_save,\n",
    "#                 file=open_file)"
   ],
   "metadata": {
    "collapsed": false,
    "pycharm": {
     "name": "#%%\n"
    }
   }
  },
  {
   "cell_type": "code",
   "execution_count": null,
   "outputs": [],
   "source": [
    "# apply interpolation function and affix name for graphing\n",
    "extrapol_funcs = [(pct_set.name, interp1d(x=pct_set.index.tolist(),\n",
    "                                          y=pct_set.values.tolist(),\n",
    "                                          kind='previous',\n",
    "                                          fill_value='extrapolate'))\n",
    "                  for pct_set in to_save]\n",
    "# test the extrapol functions\n",
    "outputs = pd.DataFrame()\n",
    "output_col_x = []\n",
    "output_col_y = []\n",
    "output_col_type = []\n",
    "input_x = np.linspace(22000, 150000, 128)\n",
    "# need to get a list of labels (variables) and a list of outputs (x and y)\n",
    "for name, func in extrapol_funcs:\n",
    "    output_col_type.extend([name for _ in range(len(input_x))])\n",
    "    output_col_y.extend(func(input_x))\n",
    "    output_col_x.extend(input_x)\n",
    "\n",
    "outputs['x'] = output_col_x\n",
    "outputs['y'] = output_col_y\n",
    "outputs['type'] = output_col_type"
   ],
   "metadata": {
    "collapsed": false,
    "pycharm": {
     "name": "#%%\n"
    }
   }
  },
  {
   "cell_type": "code",
   "execution_count": null,
   "outputs": [],
   "source": [
    "sns.relplot(data=outputs,\n",
    "            x='x',\n",
    "            y='y',\n",
    "            style='type',\n",
    "            kind='line')\n",
    "# not very optimal graph but a better graph would be more complicated. Need to get the curve approximation for the high income part and revert to get the ladder points (though they are indeed segregated to 0.5 methods..."
   ],
   "metadata": {
    "collapsed": false,
    "pycharm": {
     "name": "#%%\n"
    }
   }
  },
  {
   "cell_type": "code",
   "execution_count": null,
   "outputs": [],
   "source": [
    "# sns.relplot(data=test_sample_melt,\n",
    "#             x='ori_idx',\n",
    "#             y='value',\n",
    "#             style='variable',\n",
    "#             kind='line')\n"
   ],
   "metadata": {
    "collapsed": false,
    "pycharm": {
     "name": "#%%\n"
    }
   }
  },
  {
   "cell_type": "markdown",
   "source": [
    "## (depreciated) using wealth national data from CBS (2018)\n"
   ],
   "metadata": {
    "collapsed": false,
    "pycharm": {
     "name": "#%% md\n"
    }
   }
  },
  {
   "cell_type": "code",
   "execution_count": null,
   "outputs": [],
   "source": [
    "# read csv file (note that they are minorly edited for ease of reading)\n",
    "lti_brackets = pd.read_csv('data/Financieel_risico_hypotheekschuld__eigenwoningbezitters_ratio LTI_2018.csv',\n",
    "                           sep=';', decimal=',', header=0, index_col=0, comment='#').drop(['units'], axis=1)\n",
    "ltv_brackets = pd.read_csv('data/Financieel_risico_hypotheekschuld__eigenwoningbezitters_ratio LTV_2018.csv',\n",
    "                           sep=';', decimal=',', header=0, index_col=0, comment='#').drop(['units'], axis=1)\n",
    "# rename columns for ease of reading\n",
    "lti_brackets.columns = [f'{n + 1}e' for n in range(len(lti_brackets.columns))]\n",
    "ltv_brackets.columns = [f'{n + 1}e' for n in range(len(ltv_brackets.columns))]\n",
    "\n",
    "# extract the number of households\n",
    "n_households = lti_brackets.loc['Particuliere huishoudens', :]\n",
    "\n",
    "# drop the particuliere huishoudens entry\n",
    "lti_brackets = lti_brackets.drop(['Particuliere huishoudens'])\n",
    "ltv_brackets = ltv_brackets.drop(['Particuliere huishoudens'])\n",
    "\n",
    "# rename indices for ease of reading\n",
    "lti_brackets.index = ['None', '0 - 3.5', '3.5 - 7', '>7']\n",
    "ltv_brackets.index = ['None', '0 - 0.7', '0.7 - 0.8', '0.8 - 0.9', '0.9 - 1.0', '>1']\n",
    "\n",
    "# get ratios of both datasets\n",
    "lti_ratios = lti_brackets / n_households\n",
    "ltv_ratios = ltv_brackets / n_households\n"
   ],
   "metadata": {
    "collapsed": false,
    "pycharm": {
     "name": "#%%\n"
    }
   }
  },
  {
   "cell_type": "code",
   "execution_count": null,
   "outputs": [],
   "source": [
    "sns.heatmap(lti_ratios, cmap='GnBu')\n",
    "plt.suptitle('Loan-to-Income ratios vs wealth deciles')"
   ],
   "metadata": {
    "collapsed": false,
    "pycharm": {
     "name": "#%%\n"
    }
   }
  },
  {
   "cell_type": "markdown",
   "source": [
    "The above shows the loan-to-income ratios wrt. the wealth deciles in NL. The Y axis denotes the mortgage loan value as a multiple of the household disposable wage (besteedbare inkomen), while the X axis denotes the wealth decile (increasing = richer). It could be seen that richer households tend to have a lower ratio of LTI. This may inform on the level of savings seen in wealthier households.\n",
    "\n",
    "For the model, the range of LTI values lying between 0 - 7 would be very useful in determining the level of mortgage repayments conducted by households, which potentially allows solving for the total mortgage servicing duration. This also informs on the importance of the inclusion of savings to reduce mortgage loans"
   ],
   "metadata": {
    "collapsed": false,
    "pycharm": {
     "name": "#%% md\n"
    }
   }
  },
  {
   "cell_type": "code",
   "execution_count": null,
   "outputs": [],
   "source": [
    "sns.heatmap(ltv_ratios, cmap='GnBu')\n",
    "plt.suptitle('Loan-to-Value ratios vs wealth deciles')"
   ],
   "metadata": {
    "collapsed": false,
    "pycharm": {
     "name": "#%%\n"
    }
   }
  },
  {
   "cell_type": "markdown",
   "source": [
    "The above shows the loan-to-value ratios wrt. wealth deciles in NL. The Y axis denotes the mortgage loan value divided by home value, while the X axis denotes the wealth decile (increasing = richer). It could be seen that richer neighbourhoods tend to have lower LTV ratios, possible corroborating the last graph that they have more savings to reduce the mortgage loan. However, the trend of lower deciles having >1 LTV might be due to the added mortgage interest, or property value going underwater."
   ],
   "metadata": {
    "collapsed": false,
    "pycharm": {
     "name": "#%% md\n"
    }
   }
  },
  {
   "cell_type": "markdown",
   "source": [
    "Using house value national data (2018)"
   ],
   "metadata": {
    "collapsed": false,
    "pycharm": {
     "name": "#%% md\n"
    }
   }
  },
  {
   "cell_type": "code",
   "execution_count": null,
   "outputs": [],
   "source": [
    "# read from modefied csv files\n",
    "hv_averages = pd.read_csv('data/Financieel_risico_hypotheekschuld__eigenwoningbezitters_housevalue_averages.csv',\n",
    "                          sep=';', decimal=',', header=0, index_col=0, comment='#').drop(['units'], axis=1)\n",
    "hv_lti_brackets = pd.read_csv('data/Financieel_risico_hypotheekschuld__eigenwoningbezitters_housevalue_LTI.csv',\n",
    "                              sep=';', decimal=',', header=0, index_col=0, comment='#').drop(['units'], axis=1)\n",
    "hv_ltv_brackets = pd.read_csv('data/Financieel_risico_hypotheekschuld__eigenwoningbezitters_housevalue_LTV.csv',\n",
    "                              sep=';', decimal=',', header=0, index_col=0, comment='#').drop(['units'], axis=1)\n",
    "hv_size_quartiles = 1103.9  # gotten from original set\n",
    "\n",
    "# rename columns\n",
    "cols = [f'{n + 1}e' for n in range(1, 5)]\n",
    "hv_averages.columns = cols\n",
    "hv_lti_brackets.columns = cols\n",
    "hv_ltv_brackets.columns = cols\n",
    "\n",
    "# rename indices\n",
    "hv_averages.index = ['n_households', 'mortgage debt', 'house value', 'base income', 'disposable income']\n",
    "hv_ltv_brackets.index = ['none', '0 - 0.7', '0.7  - 0.8', '0.8 - 0.9', '0.9 - 1.0', '>1']\n",
    "hv_lti_brackets.index = ['none', '0 - 3.5', '3.5 - 7', '>7']\n",
    "\n",
    "# get ratios of both datasets\n",
    "hv_lti_ratios = hv_lti_brackets / hv_size_quartiles\n",
    "hv_ltv_ratios = hv_ltv_brackets / hv_size_quartiles"
   ],
   "metadata": {
    "collapsed": false,
    "pycharm": {
     "name": "#%%\n"
    }
   }
  },
  {
   "cell_type": "code",
   "execution_count": null,
   "outputs": [],
   "source": [
    "sns.heatmap(hv_lti_ratios, cmap='GnBu')\n",
    "plt.suptitle('LTI ratios vs value of home')"
   ],
   "metadata": {
    "collapsed": false,
    "pycharm": {
     "name": "#%%\n"
    }
   }
  },
  {
   "cell_type": "code",
   "execution_count": null,
   "outputs": [],
   "source": [
    "sns.heatmap(hv_ltv_ratios, cmap='GnBu')"
   ],
   "metadata": {
    "collapsed": false,
    "pycharm": {
     "name": "#%%\n"
    }
   }
  },
  {
   "cell_type": "code",
   "execution_count": null,
   "outputs": [],
   "source": [
    "sns.relplot(x=cols, y=hv_averages.loc['mortgage debt', :])"
   ],
   "metadata": {
    "collapsed": false,
    "pycharm": {
     "name": "#%%\n"
    }
   }
  },
  {
   "cell_type": "code",
   "execution_count": null,
   "outputs": [],
   "source": [
    "sns.relplot(x=cols, y=hv_averages.loc['house value'])"
   ],
   "metadata": {
    "collapsed": false,
    "pycharm": {
     "name": "#%%\n"
    }
   }
  },
  {
   "cell_type": "code",
   "execution_count": null,
   "outputs": [],
   "source": [
    "sns.relplot(x=cols, y=hv_averages.loc['disposable income', :])"
   ],
   "metadata": {
    "collapsed": false,
    "pycharm": {
     "name": "#%%\n"
    }
   }
  },
  {
   "cell_type": "code",
   "execution_count": null,
   "outputs": [],
   "source": [
    "# read the tsv file\n",
    "mortgage_interest_rates = pd.read_csv('data/mortgage_interest_rates.tsv', sep='\\t',\n",
    "                                      index_col=0,\n",
    "                                      usecols=[0, 2, 3, 4, 5]) / 100\n",
    "\n",
    "# mortgage_interest_rates\n",
    "sns.heatmap(mortgage_interest_rates, annot=True)\n",
    "# convert into numpy array?\n",
    "# per agent, precalculate their loan boundaries\n"
   ],
   "metadata": {
    "collapsed": false,
    "pycharm": {
     "name": "#%%\n"
    }
   }
  },
  {
   "cell_type": "code",
   "execution_count": null,
   "outputs": [],
   "source": [
    "# extract the ranges\n",
    "# get upper bounds\n",
    "# get\n",
    "mortgage_ltv_upper_bounds = [int(r) for r in mortgage_interest_rates.columns.to_list()]\n",
    "mortgage_ltv_lower_bounds = [0] + mortgage_ltv_upper_bounds[:-1]\n",
    "mortgage_ltv_ranges = list(zip(mortgage_ltv_lower_bounds, mortgage_ltv_upper_bounds))\n",
    "\n"
   ],
   "metadata": {
    "collapsed": false,
    "pycharm": {
     "name": "#%%\n"
    }
   }
  }
 ],
 "metadata": {
  "kernelspec": {
   "display_name": "Python 3",
   "language": "python",
   "name": "python3"
  },
  "language_info": {
   "codemirror_mode": {
    "name": "ipython",
    "version": 2
   },
   "file_extension": ".py",
   "mimetype": "text/x-python",
   "name": "python",
   "nbconvert_exporter": "python",
   "pygments_lexer": "ipython2",
   "version": "2.7.6"
  }
 },
 "nbformat": 4,
 "nbformat_minor": 0
}