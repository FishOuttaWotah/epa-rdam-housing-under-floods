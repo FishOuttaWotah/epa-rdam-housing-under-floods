{
 "cells": [
  {
   "cell_type": "code",
   "execution_count": 1,
   "metadata": {
    "collapsed": true,
    "pycharm": {
     "name": "#%%\n"
    }
   },
   "outputs": [],
   "source": [
    "import os\n",
    "import pathlib\n",
    "\n",
    "import numpy as np\n",
    "import pandas as pd\n",
    "\n",
    "import shapely.geometry\n",
    "import rasterio\n",
    "import rasterio.plot\n",
    "import rasterio.mask\n",
    "\n",
    "import rasterio.features\n",
    "import geopandas as gpd\n",
    "\n",
    "import matplotlib.pyplot as plt\n",
    "import matplotlib as mpl\n",
    "from matplotlib.colors import ListedColormap\n",
    "import cmasher\n",
    "\n",
    "from util_data_exploration import get_tile_images, reconvert_np_to_rasterio_dataset"
   ]
  },
  {
   "cell_type": "markdown",
   "source": [
    "## Contents of notebook\n",
    "- collecting all relevant scenario folders for processing\n",
    "- processing terrain maps, flood maps, and Rotterdam district areas\n",
    "\n",
    "This notebook specifically processes flood scenario data from LIWO, filters it with the terrain (DSM) data from AHN, and separates the flood data per district (wijk) in Rotterdam.\n",
    "\n",
    "## Usage notes\n",
    "- LIWO flood data should be placed in the data/flood_breaks directory, as separate directories per scenario. This script should automatically detect the scenarios.\n",
    "- The AHN terrain data (Digital Surface Mapping) data file is pre-processed and present in data/rdam_topo_bool_map.tif . The original raw data from AHN consists of multiple tiles and needed to be combined together, which was done in a different script (TODO: explain that script)\n",
    "- the Rotterdam district vector data is pre-processed and present in data/wijk_geometries.shp. Note that this script takes only a subset of the data, since industry-only districts and the port district of R'dam is omitted. Note that the district labels across different datasets can be different (some explicitly list all the industry districts, others just lump the industry districts as a generic 'bedrijventerrein' catch-all category)"
   ],
   "metadata": {
    "collapsed": false,
    "pycharm": {
     "name": "#%% md\n"
    }
   }
  },
  {
   "cell_type": "code",
   "execution_count": 2,
   "outputs": [],
   "source": [
    "# Search for flood scenario directories in data/flood_breaks\n",
    "base_path = '../data/flood_breaks'\n",
    "\n",
    "# find valid folders\n",
    "target_ending = '.tif'  # look for tiff files only\n",
    "scenario_paths = []  # directory paths to the scenario files\n",
    "scenario_names = []  # names of the scenarios\n",
    "for path in os.listdir(f'{base_path}'):\n",
    "    if '.zip' not in path:  ## exclude zip files, look for folders\n",
    "        for item in os.listdir(f'{base_path}/{path}'):\n",
    "            if target_ending in item:  # if tiff file\n",
    "                scenario_paths.append(f'{base_path}/{path}/{item}')  # save relative path\n",
    "                scenario_names.append(path.lower())  # the scenario names are on the directory, not the tif file itself."
   ],
   "metadata": {
    "collapsed": false,
    "pycharm": {
     "name": "#%%\n"
    }
   }
  },
  {
   "cell_type": "code",
   "execution_count": 3,
   "outputs": [],
   "source": [
    "# extract and filter Rotterdam district VECTOR data for filtering later on\n",
    "wijken = gpd.read_file('../data/wijk_geometries.shp')\n",
    "wijken.WK_NAAM = wijken.WK_NAAM.str.replace(' ',\n",
    "                                            '-').str.lower()  # switch to lower case and replace all spaces with hyphens for consistency with other datasets\n",
    "wijken.set_index('WK_NAAM', inplace=True)  # set district name as index\n",
    "\n",
    "# filter for districts of interest\n",
    "wijken_of_interest = ['Rotterdam Centrum', 'Delfshaven', 'Overschie', 'Noord', 'Hillegersberg-Schiebroek',\n",
    "                      'Kralingen-Crooswijk', 'Prins Alexander', 'Feijenoord', 'IJsselmonde', 'Charlois', 'Pernis',\n",
    "                      'Hoogvliet', 'Hoek van Holland', 'Rozenburg']  # derived from households and companies dataframe\n",
    "wijken_of_interest = [name.replace(' ', '-').lower() for name in wijken_of_interest]\n",
    "wijken = wijken.loc[wijken_of_interest, :]\n",
    "\n",
    "# only use districts that are included\n",
    "wijks_used = pd.read_pickle('../data_model_inputs/households_brackets_per_wijk_city_only.pickletable')\n",
    "\n"
   ],
   "metadata": {
    "collapsed": false,
    "pycharm": {
     "name": "#%%\n"
    }
   }
  },
  {
   "cell_type": "markdown",
   "source": [
    "## Process Rotterdam terrain data for filtering\n",
    "The following block processes the terrain data from AHN. The pre-processed data is a rasterio dataset object containing 0 for water and 1 for land, and will be used to filter out inland bodies of water in the flood dataset (some water bodies are marked as flooded, even though there won't be any buildings on them).\n",
    "\n",
    "The procedure uses a hacky method based on <https://gis.stackexchange.com/questions/363183/crop-two-rasters-to-common-extent-where-pixelvalues-are-not-nodata>, converting the terrain (raster) to vector to be used as a mask for the flood map."
   ],
   "metadata": {
    "collapsed": false,
    "pycharm": {
     "name": "#%% md\n"
    }
   }
  },
  {
   "cell_type": "code",
   "execution_count": 4,
   "outputs": [],
   "source": [
    "# Read rotterdam land bool map, generated from map_explore.ipynb\n",
    "terrain_bool_ds = rasterio.open('../data/rdam_topo_bool_map.tif')\n",
    "terrain_bool_map = terrain_bool_ds.read(1)  # derived from map_explore.ipynb\n",
    "# in the map 0 = water, 1 = land\n",
    "# convert terrain map (raster) to vector map for masking.\n",
    "\n",
    "knockout_meta = terrain_bool_ds  # with metadata\n",
    "knockout = terrain_bool_map\n",
    "geoms_water = []\n",
    "geoms_land = []\n",
    "\n",
    "# convert the raster to vector features, for masking out inland water bodies later on\n",
    "for geometry, raster_value in rasterio.features.shapes(knockout, transform=knockout_meta.transform):\n",
    "    if raster_value == 0:  # 0 = water, 1 = land\n",
    "        geoms_water.append(geometry)\n",
    "    else:\n",
    "        geoms_land.append(geometry)\n"
   ],
   "metadata": {
    "collapsed": false,
    "pycharm": {
     "name": "#%%\n"
    }
   }
  },
  {
   "cell_type": "markdown",
   "source": [
    "## Processing flood data, with filtering/masking from the terrain map and district boundaries.\n",
    "This section processes the flood data with the terrain maps (to ignore inland water) and district geometry. The flood data will be separated according to the districts, and saved into a pandas dataframe (currently 'data_model_inputs/flood_scenarios_v2.pickletable') for further usage. An entry in the dataframe includes the distribution of land 'tiles'.\n",
    "\n"
   ],
   "metadata": {
    "collapsed": false,
    "pycharm": {
     "name": "#%% md\n"
    }
   }
  },
  {
   "cell_type": "code",
   "execution_count": 5,
   "outputs": [],
   "source": [
    "# NEW RETROFIT FOR THESIS PLOTTING\n",
    "\n",
    "# use generated vectors as mask. Should be less sensitive to differential spatial resolution than older method in map_explore.ipynb\n",
    "\n",
    "# TODO: list out assumptions in this datacleaning\n",
    "\n",
    "temp_dict = {}  # for temporary storage, for generation of pandas dataframe\n",
    "flooded_pct_threshold = .01   # percentage of flooded landmass to be considered significant (1%)\n",
    "force_equalise = True  # bool argument to force non-data (but still landmass) to 0 (TODO: explain)\n",
    "\n",
    "for idx, path in enumerate(scenario_paths):\n",
    "    with rasterio.open(path) as input_flood_ds:  # open the flood scenario in 'safe' manner\n",
    "        input_flood_scenario = scenario_names[idx]  # get scenario name\n",
    "        # first mask out inland water bodies to minimise invalid flood values\n",
    "        out_flood_img, out_transform = rasterio.mask.mask(dataset=input_flood_ds,\n",
    "                                                          shapes=geoms_land,\n",
    "                                                          crop=True,\n",
    "                                                          nodata=np.nan,\n",
    "                                                          pad=True)\n",
    "        # use the first band (count=1) for further cropping, it contains all flood data. Other bands contain bins of flood depths\n",
    "        out_flood_ds = reconvert_np_to_rasterio_dataset(raster=out_flood_img[0, :, :],\n",
    "                                                        transform=out_transform,\n",
    "                                                        count=1)  # only use the 1st band\n",
    "\n",
    "        # crop out the flood map with the wijk borders, only for the wijken of interest\n",
    "        cropped, transform = rasterio.mask.mask(dataset=out_flood_ds,\n",
    "                                                shapes=wijken.loc[wijks_used.index,'geometry'],\n",
    "                                                crop=True,\n",
    "                                                nodata=np.nan)\n",
    "\n",
    "        # filter out very small flooding that can be considered negligible (for plotting)\n",
    "        cropped = np.where(cropped < flooded_pct_threshold, 0., cropped)\n",
    "        temp_dict[input_flood_scenario] = (cropped, transform)  #  save as tuple for plotting\n",
    "\n",
    "        # cut out the flood submaps with the R'dam district shapes\n",
    "        # filter out districts that are not affected\n",
    "        # caveat: dependent on which wijken are collected for this study (eg. the business-specific areas are not included)\n",
    "        # for wijk in wijken.index:  # numeric index\n",
    "        #     geo = wijken.geometry[wijk]\n",
    "        #\n",
    "        #     # cut out flood values belonging to the specific wijk\n",
    "        #     try:\n",
    "        #         submap, transform = rasterio.mask.mask(dataset=out_flood_ds,\n",
    "        #                                                shapes=[geo],\n",
    "        #                                                crop=True,\n",
    "        #                                                nodata=np.nan)\n",
    "        #         # process to see if map contains any valid flood values\n",
    "        #         submap_depths = submap[submap > 0.]  # 1d array of parcels higher than 0\n",
    "        #         if submap_depths.size > 0:  # if there are areas higher than 0\n",
    "        #\n",
    "        #             # if non-data exists on the cropped submap, force them to 0. (A)\n",
    "        #             if force_equalise:\n",
    "        #                 submap = np.where(submap < 0., 0., submap)\n",
    "        #\n",
    "        #             # gets the distribution of land parcels. Used for sampling buildable land\n",
    "        #             flatten = submap[submap >= 0.]\n",
    "        #             if submap_depths.size / flatten.size >= flooded_pct_threshold: # if flooded proportion is higher than threshold\n",
    "        #\n",
    "        #                 # save to dict for DataFrame generation\n",
    "        #                 temp_dict[f'{input_flood_scenario},{wijk}'] = {'scenario': input_flood_scenario,\n",
    "        #                                                                'wijk': wijk,\n",
    "        #                                                                'submap': submap,\n",
    "        #                                                                'transform': transform,\n",
    "        #                                                                'flatten': flatten}\n",
    "        #\n",
    "        #     except ValueError:  # occurs if the map geometry doesn't overlap flood area\n",
    "        #         pass  # no appending to flood_submaps\n",
    "        #         # flood_submaps[name] = None # could also ignore"
   ],
   "metadata": {
    "collapsed": false,
    "pycharm": {
     "name": "#%%\n"
    }
   }
  },
  {
   "cell_type": "code",
   "execution_count": 11,
   "outputs": [
    {
     "name": "stdout",
     "output_type": "stream",
     "text": [
      "boerengatsluis_1e6 created\n",
      "capelle_west_nijverheidstraat_1e5 created\n",
      "maashaven_4e5 created\n",
      "maashaven_4e5kv2 created\n",
      "nieuwe_maas_4e5.km41.2 created\n",
      "parksluizen_1e4 created\n",
      "parksluizen_1e6 created\n"
     ]
    },
    {
     "data": {
      "text/plain": "<Figure size 720x576 with 0 Axes>"
     },
     "metadata": {},
     "output_type": "display_data"
    },
    {
     "data": {
      "text/plain": "<Figure size 720x576 with 0 Axes>"
     },
     "metadata": {},
     "output_type": "display_data"
    },
    {
     "data": {
      "text/plain": "<Figure size 720x576 with 0 Axes>"
     },
     "metadata": {},
     "output_type": "display_data"
    },
    {
     "data": {
      "text/plain": "<Figure size 720x576 with 0 Axes>"
     },
     "metadata": {},
     "output_type": "display_data"
    },
    {
     "data": {
      "text/plain": "<Figure size 720x576 with 0 Axes>"
     },
     "metadata": {},
     "output_type": "display_data"
    },
    {
     "data": {
      "text/plain": "<Figure size 720x576 with 0 Axes>"
     },
     "metadata": {},
     "output_type": "display_data"
    },
    {
     "data": {
      "text/plain": "<Figure size 720x576 with 0 Axes>"
     },
     "metadata": {},
     "output_type": "display_data"
    }
   ],
   "source": [
    "# plot the flood dataset with the map borders\n",
    "\n",
    "colour_choice = mpl.colormaps['GnBu']\n",
    "modded = ListedColormap(colour_choice(np.linspace(0.2, 1.0, 205)))\n",
    "test_mode = False\n",
    "if test_mode:\n",
    "    plt.ion()  # plot in notebook\n",
    "else:\n",
    "    plt.ioff() # only output as file\n",
    "\n",
    "for fld_scenario, fld_cropped in temp_dict.items():\n",
    "    fld_map, fld_transform = fld_cropped\n",
    "\n",
    "    fig, ax = plt.subplots(figsize=(10,8))\n",
    "\n",
    "    # plot cropped floodmap with colour\n",
    "    rasterio.plot.show(fld_map, transform=fld_transform, ax=ax, cmap=cmasher.arctic_r, vmin=0, vmax=3.)\n",
    "    # plot borders of wijken of interest\n",
    "    wijken.loc[wijks_used.index].boundary.plot(ax=ax, edgecolor='grey')\n",
    "    brightness = 0.8  # for RGB setting of grey\n",
    "    fig.set_facecolor((brightness, brightness,brightness))  # create grey background\n",
    "    ax.axis('off')  # turn off axes\n",
    "    plt.tight_layout()  # calculate plot spacing for output\n",
    "    print(f'{fld_scenario} created')\n",
    "\n",
    "    if test_mode:\n",
    "        break\n",
    "    else:\n",
    "        # save fig and clear for next iteration\n",
    "        fig.savefig(f'../data_model_outputs/fld_plots/{fld_scenario}.png', dpi=500)\n",
    "        fig.clf()\n",
    "        ax.cla()\n",
    "\n"
   ],
   "metadata": {
    "collapsed": false,
    "pycharm": {
     "name": "#%%\n"
    }
   }
  },
  {
   "cell_type": "code",
   "execution_count": 9,
   "outputs": [
    {
     "ename": "KeyError",
     "evalue": "\"Only a column name can be used for the key in a dtype mappings argument. 'scenario' not found in columns.\"",
     "output_type": "error",
     "traceback": [
      "\u001B[1;31m---------------------------------------------------------------------------\u001B[0m",
      "\u001B[1;31mKeyError\u001B[0m                                  Traceback (most recent call last)",
      "\u001B[1;32m~\\AppData\\Local\\Temp/ipykernel_25852/3298250629.py\u001B[0m in \u001B[0;36m<module>\u001B[1;34m\u001B[0m\n\u001B[0;32m      1\u001B[0m \u001B[1;32mif\u001B[0m \u001B[0mtemp_dict\u001B[0m\u001B[1;33m:\u001B[0m  \u001B[1;31m# if dict is not empty\u001B[0m\u001B[1;33m\u001B[0m\u001B[1;33m\u001B[0m\u001B[0m\n\u001B[0;32m      2\u001B[0m \u001B[1;33m\u001B[0m\u001B[0m\n\u001B[1;32m----> 3\u001B[1;33m     flood_submaps_df = pd.DataFrame.from_dict(temp_dict, orient='index').astype(\n\u001B[0m\u001B[0;32m      4\u001B[0m         {'scenario': 'category',\n\u001B[0;32m      5\u001B[0m          'wijk': 'category'})\n",
      "\u001B[1;32md:\\Users\\fishe\\anaconda3\\envs\\tpm-aabm-2\\lib\\site-packages\\pandas\\core\\generic.py\u001B[0m in \u001B[0;36mastype\u001B[1;34m(self, dtype, copy, errors)\u001B[0m\n\u001B[0;32m   5877\u001B[0m             \u001B[1;32mfor\u001B[0m \u001B[0mcol_name\u001B[0m \u001B[1;32min\u001B[0m \u001B[0mdtype\u001B[0m\u001B[1;33m.\u001B[0m\u001B[0mkeys\u001B[0m\u001B[1;33m(\u001B[0m\u001B[1;33m)\u001B[0m\u001B[1;33m:\u001B[0m\u001B[1;33m\u001B[0m\u001B[1;33m\u001B[0m\u001B[0m\n\u001B[0;32m   5878\u001B[0m                 \u001B[1;32mif\u001B[0m \u001B[0mcol_name\u001B[0m \u001B[1;32mnot\u001B[0m \u001B[1;32min\u001B[0m \u001B[0mself\u001B[0m\u001B[1;33m:\u001B[0m\u001B[1;33m\u001B[0m\u001B[1;33m\u001B[0m\u001B[0m\n\u001B[1;32m-> 5879\u001B[1;33m                     raise KeyError(\n\u001B[0m\u001B[0;32m   5880\u001B[0m                         \u001B[1;34m\"Only a column name can be used for the \"\u001B[0m\u001B[1;33m\u001B[0m\u001B[1;33m\u001B[0m\u001B[0m\n\u001B[0;32m   5881\u001B[0m                         \u001B[1;34m\"key in a dtype mappings argument. \"\u001B[0m\u001B[1;33m\u001B[0m\u001B[1;33m\u001B[0m\u001B[0m\n",
      "\u001B[1;31mKeyError\u001B[0m: \"Only a column name can be used for the key in a dtype mappings argument. 'scenario' not found in columns.\""
     ]
    }
   ],
   "source": [
    "if temp_dict:  # if dict is not empty\n",
    "\n",
    "    flood_submaps_df = pd.DataFrame.from_dict(temp_dict, orient='index').astype(\n",
    "        {'scenario': 'category',\n",
    "         'wijk': 'category'})\n",
    "    flood_submaps_df['flatten_size'] = [v.size for v in flood_submaps_df.flatten]\n",
    "    flood_submaps_df['submap_size'] = [v.size for v in flood_submaps_df.submap]\n",
    "\n",
    "    # clean and truncate floodmaps since the flood-data borders are inconsistent\n",
    "\n",
    "    # save dataframe to disk (uncomment when necessary)\n",
    "    # flood_submaps_df.to_pickle('../data_model_inputs/flood_scenarios_v2.pickletable')"
   ],
   "metadata": {
    "collapsed": false,
    "pycharm": {
     "name": "#%%\n"
    }
   }
  }
 ],
 "metadata": {
  "kernelspec": {
   "display_name": "Python 3",
   "language": "python",
   "name": "python3"
  },
  "language_info": {
   "codemirror_mode": {
    "name": "ipython",
    "version": 2
   },
   "file_extension": ".py",
   "mimetype": "text/x-python",
   "name": "python",
   "nbconvert_exporter": "python",
   "pygments_lexer": "ipython2",
   "version": "2.7.6"
  }
 },
 "nbformat": 4,
 "nbformat_minor": 0
}