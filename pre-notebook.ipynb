{
 "cells": [
  {
   "cell_type": "code",
   "execution_count": 1,
   "metadata": {
    "collapsed": true,
    "pycharm": {
     "name": "#%%\n"
    }
   },
   "outputs": [],
   "source": [
    "# IMPORT SECTION\n",
    "import pandas as pd\n",
    "from util_data_exploration import read_CBS_excel\n",
    "import geopandas as gpd\n",
    "import difflib  # for comparing deltas and similar-looking matching\n",
    "import matplotlib.pyplot as plt\n",
    "import seaborn as sns\n",
    "import numpy as np\n",
    "import scipy\n",
    "from scipy.optimize import curve_fit\n",
    "import os"
   ]
  },
  {
   "cell_type": "code",
   "execution_count": 2,
   "outputs": [
    {
     "name": "stderr",
     "output_type": "stream",
     "text": [
      "UsageError: Line magic function `%` not found.\n"
     ]
    }
   ],
   "source": [
    "% % capture\n",
    "'''\n",
    "read excel files from CBS data, mostly down to buurt_level:\n",
    "n_addresses : number of addresses (in lieu of households)\n",
    "surface_areas : total area within buurt\n",
    "median_prices : median house prices (probably depreciated)\n",
    "\n",
    "'''\n",
    "\n",
    "n_addresses = read_CBS_excel(\"data/Bewoonde adressen - Buurten.xlsx\",\n",
    "                             index_name='buurt',\n",
    "                             convert_to_Int64=True)\n",
    "surface_areas = read_CBS_excel(\"data/Oppervlakte  - 2020 - Buurten.xlsx\", index_name='buurt', convert_to_Int64=True)\n",
    "median_prices = read_CBS_excel(\"data/Mediane verkoopprijs - Buurten.xlsx\", index_name='buurt', convert_to_Int64=True)\n",
    "highest20_percentile = read_CBS_excel(\"data/20% huishoudens met hoogste inkomen - Buurten.xlsx\", index_name='buurt',\n",
    "                                      convert_to_Int64=False)\n",
    "lowest40_percentile = read_CBS_excel(\"data/40% huishoudens met laagste inkomen - Buurten.xlsx\", index_name='buurt',\n",
    "                                     convert_to_Int64=False)\n",
    "transactions = read_CBS_excel(\"data/Aantal transacties - Buurten.xlsx\",\n",
    "                              index_name='buurt', convert_to_Int64=True)\n",
    "companies = read_CBS_excel(\"data/Bedrijfsvestigingen naar SBI 1 niveau - Buurten.xlsx\", index_name='buurt',\n",
    "                           convert_to_Int64=True)\n",
    "house_index_macro = pd.read_csv(\"data/Bestaande_koopwoningen__regio___17052022_094557.csv\",\n",
    "                                sep=';', header=0, index_col=0)\n",
    "rdam_price_2018 = house_index_macro.loc[2018, 'Gemiddelde verkoopprijs (euro)']"
   ],
   "metadata": {
    "collapsed": false,
    "pycharm": {
     "name": "#%%\n"
    }
   }
  },
  {
   "cell_type": "code",
   "execution_count": null,
   "outputs": [],
   "source": [
    "# national income brackets from CBS, x1000\n",
    "income_brackets = (\n",
    "        pd.read_csv(\"data/Inkomen_van_huishoudens__inkomensklassen__huishoudenskenmerken_20062022_161158.csv\",\n",
    "                    sep=';', header=0, index_col=0, decimal=',') * 1000).astype(int)\n",
    "income_brackets.index = ['<10k', '10k-20k', '20k-30k', '30k-40k', '40k-50k', '50k-100k', '100k-200k', '>200k']\n",
    "income_brackets['min'] = [0, 1e4, 2e4, 3e4, 4e4, 5e4, 1e5, 2e5]\n",
    "income_brackets['max'] = [1e4, 2e4, 3e4, 4e4, 5e4, 1e5, 2e5, 1e6]\n",
    "# OPTIONAL: drop row of >200k since very small number\n",
    "income_brackets = income_brackets.drop('>200k', axis=0)\n",
    "# change to ratios?\n",
    "# sns.displot(income_brackets, x=income_brackets.index,y='households')"
   ],
   "metadata": {
    "collapsed": false,
    "pycharm": {
     "name": "#%%\n"
    }
   }
  },
  {
   "cell_type": "code",
   "execution_count": null,
   "outputs": [],
   "source": [
    "# national income brackets in deciles, per 1k euro\n",
    "income_deciles = pd.read_csv('data/Inkomen_van_huishoudens__median.csv',\n",
    "                             sep=';', header=0, index_col=0, decimal=',')\n",
    "income_deciles.index = list(range(1, 10 + 1, 1))\n",
    "income_deciles_delta = income_deciles.median_income[1:].to_numpy() - income_deciles.median_income[:-1].to_numpy()\n",
    "sns.relplot(y=income_deciles.median_income, x=income_deciles.index)"
   ],
   "metadata": {
    "collapsed": false,
    "pycharm": {
     "name": "#%%\n"
    }
   }
  },
  {
   "cell_type": "code",
   "execution_count": null,
   "outputs": [],
   "source": [
    "# create brute force function for quantiles\n",
    "seed = 1\n",
    "n_to_generate = 1000\n",
    "lookup = income_deciles.median_income.to_numpy()\n",
    "basic = list(range(1, 100, 10))  # plot to 100\n",
    "generator = np.random.default_rng(seed=seed)\n",
    "generations = generator.random(size=n_to_generate) * 10  # check whether np.float32 is valid\n",
    "ints = generations.astype(int)\n",
    "decimals = generations - ints\n",
    "\n",
    "\n",
    "# TODO: relearn type hinting\n",
    "def something(integer, decimal, lookup=lookup):\n",
    "    # create function\n",
    "    return lookup[integer] + decimal * (lookup[integer + 1] - lookup[integer])\n",
    "\n",
    "# results = np.vectorize(something)(ints,decimals)\n",
    "# then visualise the distribution for N generations"
   ],
   "metadata": {
    "collapsed": false,
    "pycharm": {
     "name": "#%%\n"
    }
   }
  },
  {
   "cell_type": "markdown",
   "source": [],
   "metadata": {
    "collapsed": false,
    "pycharm": {
     "name": "#%% md\n"
    }
   }
  },
  {
   "cell_type": "code",
   "execution_count": null,
   "outputs": [],
   "source": [
    "# using the Excel-based 3rd-order regression technique\n",
    "def curve_3(x):\n",
    "    return 0.1199 * x * x * x - 14.5822 * x * x + 834.5435 * x + 7575.5915\n",
    "\n",
    "\n",
    "def curve_4(x):\n",
    "    return 0.0018 * x * x * x * x - 0.2391 * x * x * x + 8.6614 * x * x + 305.0563 * x + 10461.0723\n",
    "\n",
    "\n",
    "def curve_3_b(x):\n",
    "    # derived from good ol' Excel with besteedbare inkomen data\n",
    "    return 0.1807 * x * x * x - 18.6247 * x * x + 1074.5260 * x + 7334.1725\n",
    "\n",
    "\n",
    "curve_test = np.vectorize(curve_3)(generations)\n",
    "curve_3_plot = np.vectorize(curve_3)(basic)\n",
    "curve_4_plot = np.vectorize(curve_4)(basic)\n",
    "curve_3_b_plot = np.vectorize(curve_3_b)(basic)\n"
   ],
   "metadata": {
    "collapsed": false,
    "pycharm": {
     "name": "#%%\n"
    }
   }
  },
  {
   "cell_type": "code",
   "execution_count": null,
   "outputs": [],
   "source": [
    "\"\"\"\n",
    "Simple method: drop the\n",
    "only preserve relevant dataframes:\n",
    "(transactions shouldn't be the constraint now)\n",
    "\n",
    "\n",
    "\"\"\"\n",
    "transactions_18 = transactions.loc[:, '2018'].dropna(how='all').rename('transactions')\n",
    "median_prices_empties = median_prices.index[median_prices.isnull().all(axis=1)]  # gets row indices with full Null row\n",
    "highest20_percentile_18 = highest20_percentile.loc[:, '2018'].rename('high20')  # get 2018 data (latest)\n",
    "lowest40_percentile_18 = lowest40_percentile.loc[:, '2018'].rename('low40')\n",
    "median_prices_18 = median_prices.loc[:, '2018'].rename('median')\n",
    "n_addresses_18 = n_addresses.loc[:, '2018'].rename('n_address')\n",
    "land_areas = surface_areas.loc[:, 'land']\n",
    "companies_18 = companies.loc[:, '2018'].dropna().rename('companies')\n",
    "density_companies = (companies_18 / land_areas).rename('density_companies')\n",
    "density_households = (n_addresses_18 / land_areas).rename('density_households')\n",
    "price_index = (median_prices_18 / rdam_price_2018).rename('price_delta')\n",
    "# derive middle income bracket 40% from lowest 40% and highest 20%\n",
    "middle40 = pd.Series(data=(1 - lowest40_percentile_18 - highest20_percentile_18), name='mid40')\n",
    "\n",
    "households_p_bracket = pd.concat([lowest40_percentile_18, middle40, highest20_percentile_18], axis=1).mul(\n",
    "    n_addresses_18, axis=0).round(0).astype('Int64')\n",
    "households_p_bracket.columns = ['low40_hholds', 'mid40_hholds', 'high20_hholds']\n",
    "\n",
    "## merge into big descriptive dataframe\n",
    "descriptive = pd.concat(\n",
    "    [lowest40_percentile_18, middle40, highest20_percentile_18, households_p_bracket, n_addresses_18,\n",
    "     density_households, density_companies, median_prices_18, price_index, transactions_18], axis=1).dropna(how='any',\n",
    "                                                                                                            subset=[\n",
    "                                                                                                                'low40',\n",
    "                                                                                                                'high20'])  # since mid40 is derived from low40 and high20, this is fine.\n"
   ],
   "metadata": {
    "collapsed": false,
    "pycharm": {
     "name": "#%%\n"
    }
   }
  },
  {
   "cell_type": "code",
   "execution_count": null,
   "outputs": [],
   "source": [
    "# Looking at relations for mortgage\n",
    "avg_home_value = [196.4, 196.9, 198.3, 210.1, 231.2, 249.5, 272.3, 328.6, 492.7]\n",
    "avg_mortgage_value = [205.0,200.0,195.4,194.0,188.8,158.7,117.3,95.6,131.8]\n",
    "x_values = list(range(1,10,1))\n",
    "sns.relplot(x=x_values, y=avg_home_value)\n",
    "sns.relplot(x=x_values, y=avg_mortgage_value)"
   ],
   "metadata": {
    "collapsed": false,
    "pycharm": {
     "name": "#%%\n"
    }
   }
  },
  {
   "cell_type": "code",
   "execution_count": null,
   "outputs": [],
   "source": [
    "# experiment to see how many classes of agents required\n",
    "descriptive.loc[:, ['low40_hholds', 'mid40_hholds', 'high20_hholds']].sum(axis=0)"
   ],
   "metadata": {
    "collapsed": false,
    "pycharm": {
     "name": "#%%\n"
    }
   }
  },
  {
   "cell_type": "code",
   "execution_count": null,
   "outputs": [],
   "source": [
    "\"\"\"\n",
    "Read vector data from rdam vector maps\n",
    "\"\"\"\n",
    "## maybe some visualisations to help\n",
    "overwrite = True  # command to force overwrite\n",
    "if 'buurten' not in locals() or overwrite:\n",
    "    # open files for all buurten in NL\n",
    "    buurten = gpd.read_file(\"data/WijkBuurtkaart_2020_v2/buurt_2020_v2.shp\")\n",
    "    # sort for Rdam\n",
    "    rdam_buurten = buurten[buurten.GM_CODE == 'GM0599'].dropna(how='any')  # corresponds to Rdam, buurt only\n",
    "    # rdam_buurt_2_wijk = rdam_buurten.copy()\n",
    "    # extrarct only the geometry\n",
    "    rdam_buurten = rdam_buurten[['BU_NAAM', 'WK_CODE', 'geometry']].set_index('BU_NAAM')\n",
    "# rdam_buurten.plot()\n",
    "# activate below to save the geometries for Rdam buurten\n",
    "# rdam_buurten.to_file('data/Rdam_buurten_shape.shp')\n",
    "\n",
    "# attempt to match rdam buurten index to descriptive dataframe\n",
    "descriptive.index = descriptive.index.map(lambda x: difflib.get_close_matches(x, rdam_buurten.index)[0])\n",
    "descriptive = gpd.GeoDataFrame(descriptive, geometry=rdam_buurten.loc[descriptive.index].geometry)\n",
    "# descriptive = rdam_buurten.join(descriptive.astype(dtype='float64'),how='left')"
   ],
   "metadata": {
    "collapsed": false,
    "pycharm": {
     "name": "#%%\n"
    }
   }
  },
  {
   "cell_type": "code",
   "execution_count": null,
   "outputs": [],
   "source": [
    "overwrite2 = True\n",
    "\n",
    "if 'wijken' not in locals() or overwrite2:\n",
    "    wijken = gpd.read_file('data/WijkBuurtkaart_2020_v2/wijk_2020_v2.shp')\n",
    "    # filter for Rdam\n",
    "    wijken = wijken[wijken.GM_CODE == 'GM0599'].dropna(how='any')\n",
    "    # preserve only code, name and geometry\n",
    "    wijken = wijken.loc[:, ['WK_CODE', 'WK_NAAM', 'geometry']]\n",
    "\n",
    "    wijken.to_file('data/wijk_geometries.shp')\n",
    "\n",
    "# TODO:use groupby and aggregation to get aggregation. Prolly need to have some mapping from the buurt data to the wijk data\n",
    "# Create mapping from wijk code in buurt data to wijk name in wijk data\n",
    "rdam_buurten['WK_NAAM'] = rdam_buurten.WK_CODE.map(wijken.set_index('WK_CODE').WK_NAAM)"
   ],
   "metadata": {
    "collapsed": false,
    "pycharm": {
     "name": "#%%\n"
    }
   }
  },
  {
   "cell_type": "code",
   "execution_count": null,
   "outputs": [],
   "source": [
    "columns_to_plot = descriptive.columns[:-2].tolist()  # up to 'transactions'\n",
    "# make figures with titles, and no axes\n",
    "for idx, entry in enumerate(columns_to_plot):\n",
    "    fig, ax = plt.subplots()\n",
    "    descriptive.plot(column=entry, ax=ax, missing_kwds={'color': 'lightgrey'},\n",
    "                     cmap='viridis')\n",
    "    # ax.set_axis_off() # turn on for pretty plotting\n",
    "    ax.set_title(f\"{entry} within Rotterdam buurten\")\n",
    "    # fig.show()\n",
    "    fig.savefig(f'data/choropleths_{entry}.jpg', dpi=800)\n",
    "# fig.savefig('data/choropleths.jpg',dpi=600 )\n",
    "# TODO: finish plots for choropleths with titling"
   ],
   "metadata": {
    "collapsed": false,
    "pycharm": {
     "name": "#%%\n"
    }
   }
  },
  {
   "cell_type": "code",
   "execution_count": null,
   "outputs": [],
   "source": [
    "# Get choropleth of interesting values\n",
    "\n",
    "\n",
    "# plot base map below, plot choropleth above"
   ],
   "metadata": {
    "collapsed": false,
    "pycharm": {
     "name": "#%%\n"
    }
   }
  },
  {
   "cell_type": "code",
   "execution_count": null,
   "outputs": [],
   "source": [
    "\"\"\"\n",
    "Get income distribution  of neighbourhoods\n",
    "-> Used to translate to income distribution of agents\n",
    "Also get number of agents per wijk/buurt\n",
    "Could integrate number of agents per\n",
    "\n",
    "Income table derived from onderzoek010 for proportion of brackets\n",
    "Median income derived from CBS for deciles\n",
    "Therefore, get distribution of agents (function?)\n",
    "\n",
    "\"\"\"\n",
    "\n"
   ],
   "metadata": {
    "collapsed": false,
    "pycharm": {
     "name": "#%%\n"
    }
   }
  }
 ],
 "metadata": {
  "kernelspec": {
   "name": "python3",
   "language": "python",
   "display_name": "Python 3 (ipykernel)"
  },
  "language_info": {
   "codemirror_mode": {
    "name": "ipython",
    "version": 2
   },
   "file_extension": ".py",
   "mimetype": "text/x-python",
   "name": "python",
   "nbconvert_exporter": "python",
   "pygments_lexer": "ipython2",
   "version": "2.7.6"
  }
 },
 "nbformat": 4,
 "nbformat_minor": 0
}