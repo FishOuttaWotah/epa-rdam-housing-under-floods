{
 "cells": [
  {
   "cell_type": "code",
   "execution_count": 1,
   "metadata": {
    "collapsed": true,
    "pycharm": {
     "name": "#%%\n"
    }
   },
   "outputs": [],
   "source": [
    "import pandas as pd\n",
    "import matplotlib.pyplot as plt\n",
    "import scipy.interpolate\n",
    "import numpy as np\n",
    "import seaborn as sns\n",
    "import env_flooding\n",
    "import env_socioeconomic\n",
    "import agent_generator\n",
    "import agent_firm_basic\n",
    "import agent_base\n",
    "import random"
   ]
  },
  {
   "cell_type": "code",
   "execution_count": 2,
   "outputs": [],
   "source": [
    "# econs_dmg = pd.read_csv('data_model_inputs/flood_depth_damage_functions.tsv',\n",
    "#                     sep='\\t', comment='#', index_col=0, na_values=['N'])\n",
    "# house_dmg = pd.read_csv('data_model_inputs/flood_depth_damage_functions2.tsv',\n",
    "#                     sep='\\t', comment='#', index_col=0, na_values=['N'])\n"
   ],
   "metadata": {
    "collapsed": false,
    "pycharm": {
     "name": "#%%\n"
    }
   }
  },
  {
   "cell_type": "code",
   "execution_count": 3,
   "outputs": [],
   "source": [
    "bias_e = bias_t = None\n",
    "steps_per_year = 4\n",
    "\n",
    "\n",
    "extract = pd.read_csv('data/recovery_prices_asli22.tsv',\n",
    "                      sep='\\t', index_col=0, comment='#')"
   ],
   "metadata": {
    "collapsed": false,
    "pycharm": {
     "name": "#%%\n"
    }
   }
  },
  {
   "cell_type": "code",
   "execution_count": 4,
   "outputs": [],
   "source": [
    "# ignore first line\n",
    "prices = extract.loc[4:, 'discount']\n",
    "error = extract.loc[4:, 'error']\n",
    "prices_r =  np.insert(prices[1:].to_numpy() / prices[:-1].to_numpy(), 0, 1.)\n",
    "\n",
    "# correct time index to model level (4 steps per year)\n",
    "prices.index = prices.index * steps_per_year\n",
    "\n",
    "# bias curve up/down based on error bars (Big caveat: error bars are just the SD)\n",
    "if bias_e is not None:\n",
    "    if abs(bias_e) <= 1:\n",
    "        prices = prices - bias_e * error\n",
    "    else:\n",
    "        print('Warning: generate_asli_discount_curve can only handle -1 <= bias_e <= 1 ')\n",
    "\n",
    "# bias curve length-wise\n",
    "if bias_t is not None:\n",
    "    prices.index = prices.index * bias_t\n",
    "\n",
    "\n",
    "# think severe to light damaged places would converge to 0 at the same time??"
   ],
   "metadata": {
    "collapsed": false,
    "pycharm": {
     "name": "#%%\n"
    }
   }
  },
  {
   "cell_type": "code",
   "execution_count": 5,
   "outputs": [],
   "source": [
    "import itertools\n",
    "import model_experiment_utils as MEU\n",
    "\n",
    "# model sets (for A)\n",
    "params = {'A': [-1, 0, 1], 'B': [0.5, 0.75, 1.0, 1.25], \"C\": 'A'}\n",
    "set_label = 'D'\n",
    "constants = {\"F\": (1,2,3,4)}\n",
    "blab_mSets = MEU.generate_model_sets(params, set_label, constants)\n",
    "blab_fldT = MEU.generate_flood_timings(fld_events=[2],\n",
    "                                       t_last_trailing=24,\n",
    "                                       t_next_flood_lim=5,\n",
    "                                       n_iters=3,\n",
    "                                       t_first=0)\n",
    "blab_fldS = MEU.generate_flood_scenarios([1,2,3], fld_events=[2], l_scenarios_per_cat=5)\n",
    "\n",
    "\n"
   ],
   "metadata": {
    "collapsed": false,
    "pycharm": {
     "name": "#%%\n"
    }
   }
  },
  {
   "cell_type": "code",
   "execution_count": 8,
   "outputs": [],
   "source": [
    "# how to combine the big-ass list? Use itertools.product again?\n",
    "blab_try = list(itertools.product(*[blab_mSets, blab_fldT, blab_fldS]))\n",
    "# mSets = names, fldT = flood timings, fldS = flood scenarios\n",
    "\n",
    "beeg_list = []\n",
    "for munge in blab_try:\n",
    "    mset_key, timing, scenario = munge\n",
    "    mset = blab_mSets[mset_key]\n",
    "    fld_time, sim_end = timing\n",
    "    # need to make new name\n",
    "    name = f\"{mset_key}\"\n",
    "    # create into dict\n",
    "    beeg_list.append((name, mset, fld_time, sim_end, scenario))\n",
    "\n"
   ],
   "metadata": {
    "collapsed": false,
    "pycharm": {
     "name": "#%%\n"
    }
   }
  }
 ],
 "metadata": {
  "kernelspec": {
   "name": "pycharm-42732919",
   "language": "python",
   "display_name": "PyCharm (SEN9120_G8)"
  },
  "language_info": {
   "codemirror_mode": {
    "name": "ipython",
    "version": 2
   },
   "file_extension": ".py",
   "mimetype": "text/x-python",
   "name": "python",
   "nbconvert_exporter": "python",
   "pygments_lexer": "ipython2",
   "version": "2.7.6"
  }
 },
 "nbformat": 4,
 "nbformat_minor": 0
}