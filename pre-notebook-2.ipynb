{
 "cells": [
  {
   "cell_type": "code",
   "execution_count": 1,
   "metadata": {
    "collapsed": true,
    "pycharm": {
     "name": "#%%\n"
    }
   },
   "outputs": [],
   "source": [
    "# IMPORT SECTION\n",
    "import pandas as pd\n",
    "from util_data_exploration import read_CBS_excel\n",
    "import geopandas as gpd\n",
    "import difflib  # for comparing deltas and similar-looking matching\n",
    "import matplotlib.pyplot as plt\n",
    "import seaborn as sns\n",
    "import numpy as np\n",
    "import scipy\n",
    "from scipy.optimize import curve_fit\n",
    "import os"
   ]
  },
  {
   "cell_type": "code",
   "execution_count": 2,
   "outputs": [],
   "source": [
    "%%capture\n",
    "'''\n",
    "read excel files from CBS data, mostly down to buurt_level:\n",
    "n_addresses : number of addresses (in lieu of households)\n",
    "surface_areas : total area within buurt\n",
    "median_prices : median house prices (probably depreciated)\n",
    "\n",
    "'''\n",
    "# use 2022 number of addresses (should not affect much)\n",
    "\n",
    "n_addresses = read_CBS_excel(\"data/Bewoonde adressen - 2022 - Gebieden.xlsx\",index_name='wijk',convert_to_Int64=True)\n",
    "# use 2018 data for highest_percentile(\n",
    "highest20_percentile = read_CBS_excel('data/20% huishoudens met hoogste inkomen - Gebieden.xlsx', index_name='wijk').loc[:,'2018'].rename('high20')\n",
    "lowest40_percentile = read_CBS_excel('data/40% huishoudens met laagste inkomen - Gebieden.xlsx', index_name='wijk').loc[:,'2018'].rename('low40')\n",
    "companies = read_CBS_excel(\"data/Bedrijfsvestigingen naar SBI 1 niveau - Gebieden.xlsx\", index_name='wijk',convert_to_Int64=True).loc[:, '2018'].rename('companies')\n",
    "middle40_percentile = pd.Series(data=(1 - lowest40_percentile - highest20_percentile), name='mid40')"
   ],
   "metadata": {
    "collapsed": false,
    "pycharm": {
     "name": "#%%\n"
    }
   }
  },
  {
   "cell_type": "code",
   "execution_count": 3,
   "outputs": [],
   "source": [
    "\"\"\"\n",
    "Simple method: drop the\n",
    "only preserve relevant dataframes:\n",
    "(transactions shouldn't be the constraint now)\n",
    "\n",
    "\n",
    "\"\"\"\n",
    "# get the number of households per bracket (column) per area (row)\n",
    "households_p_bracket = pd.concat([lowest40_percentile, middle40_percentile, highest20_percentile], axis=1).mul(n_addresses.values, axis='index').astype(float).round(decimals=0).astype('Int64')\n",
    "households_p_bracket.columns = ['low40_hholds', 'mid40_hholds', 'high20_hholds']"
   ],
   "metadata": {
    "collapsed": false,
    "pycharm": {
     "name": "#%%\n"
    }
   }
  },
  {
   "cell_type": "code",
   "execution_count": 4,
   "outputs": [],
   "source": [
    "# save into input list\n",
    "households_p_bracket.to_pickle('data_model_inputs/households_brackets_per_wijk.pickletable')\n",
    "companies.to_pickle('data_model_inputs/companies_per_wijk.pickletable')"
   ],
   "metadata": {
    "collapsed": false,
    "pycharm": {
     "name": "#%%\n"
    }
   }
  },
  {
   "cell_type": "code",
   "execution_count": 5,
   "outputs": [],
   "source": [
    "\n",
    "# merge into big descriptive dataframe\n",
    "descriptive = pd.concat(\n",
    "    [lowest40_percentile, middle40_percentile, highest20_percentile, households_p_bracket, n_addresses, companies], axis=1)\n",
    "#.dropna(how='any',                                      subset=['low40','high20'])  # since mid40 is derived from low40 and high20, this is fine.\n"
   ],
   "metadata": {
    "collapsed": false,
    "pycharm": {
     "name": "#%%\n"
    }
   }
  },
  {
   "cell_type": "code",
   "execution_count": 6,
   "outputs": [],
   "source": [
    "# experiment to see how many classes of agents required\n"
   ],
   "metadata": {
    "collapsed": false,
    "pycharm": {
     "name": "#%%\n"
    }
   }
  },
  {
   "cell_type": "code",
   "execution_count": 7,
   "outputs": [
    {
     "ename": "IndexError",
     "evalue": "list index out of range",
     "output_type": "error",
     "traceback": [
      "\u001B[1;31m---------------------------------------------------------------------------\u001B[0m",
      "\u001B[1;31mIndexError\u001B[0m                                Traceback (most recent call last)",
      "\u001B[1;32m~\\AppData\\Local\\Temp/ipykernel_29380/543256940.py\u001B[0m in \u001B[0;36m<module>\u001B[1;34m\u001B[0m\n\u001B[0;32m     17\u001B[0m \u001B[1;33m\u001B[0m\u001B[0m\n\u001B[0;32m     18\u001B[0m \u001B[1;31m# attempt to match rdam buurten index to descriptive dataframe\u001B[0m\u001B[1;33m\u001B[0m\u001B[1;33m\u001B[0m\u001B[0m\n\u001B[1;32m---> 19\u001B[1;33m \u001B[0mdescriptive\u001B[0m\u001B[1;33m.\u001B[0m\u001B[0mindex\u001B[0m \u001B[1;33m=\u001B[0m \u001B[0mdescriptive\u001B[0m\u001B[1;33m.\u001B[0m\u001B[0mindex\u001B[0m\u001B[1;33m.\u001B[0m\u001B[0mmap\u001B[0m\u001B[1;33m(\u001B[0m\u001B[1;32mlambda\u001B[0m \u001B[0mx\u001B[0m\u001B[1;33m:\u001B[0m \u001B[0mdifflib\u001B[0m\u001B[1;33m.\u001B[0m\u001B[0mget_close_matches\u001B[0m\u001B[1;33m(\u001B[0m\u001B[0mx\u001B[0m\u001B[1;33m,\u001B[0m \u001B[0mrdam_buurten\u001B[0m\u001B[1;33m.\u001B[0m\u001B[0mindex\u001B[0m\u001B[1;33m)\u001B[0m\u001B[1;33m[\u001B[0m\u001B[1;36m0\u001B[0m\u001B[1;33m]\u001B[0m\u001B[1;33m)\u001B[0m\u001B[1;33m\u001B[0m\u001B[1;33m\u001B[0m\u001B[0m\n\u001B[0m\u001B[0;32m     20\u001B[0m \u001B[0mdescriptive\u001B[0m \u001B[1;33m=\u001B[0m \u001B[0mgpd\u001B[0m\u001B[1;33m.\u001B[0m\u001B[0mGeoDataFrame\u001B[0m\u001B[1;33m(\u001B[0m\u001B[0mdescriptive\u001B[0m\u001B[1;33m,\u001B[0m \u001B[0mgeometry\u001B[0m\u001B[1;33m=\u001B[0m\u001B[0mrdam_buurten\u001B[0m\u001B[1;33m.\u001B[0m\u001B[0mloc\u001B[0m\u001B[1;33m[\u001B[0m\u001B[0mdescriptive\u001B[0m\u001B[1;33m.\u001B[0m\u001B[0mindex\u001B[0m\u001B[1;33m]\u001B[0m\u001B[1;33m.\u001B[0m\u001B[0mgeometry\u001B[0m\u001B[1;33m)\u001B[0m\u001B[1;33m\u001B[0m\u001B[1;33m\u001B[0m\u001B[0m\n\u001B[0;32m     21\u001B[0m \u001B[1;31m# descriptive = rdam_buurten.join(descriptive.astype(dtype='float64'),how='left')\u001B[0m\u001B[1;33m\u001B[0m\u001B[1;33m\u001B[0m\u001B[0m\n",
      "\u001B[1;32md:\\Users\\fishe\\miniconda3\\envs\\tpm-aabm\\lib\\site-packages\\pandas\\core\\indexes\\base.py\u001B[0m in \u001B[0;36mmap\u001B[1;34m(self, mapper, na_action)\u001B[0m\n\u001B[0;32m   6074\u001B[0m         \u001B[1;32mfrom\u001B[0m \u001B[0mpandas\u001B[0m\u001B[1;33m.\u001B[0m\u001B[0mcore\u001B[0m\u001B[1;33m.\u001B[0m\u001B[0mindexes\u001B[0m\u001B[1;33m.\u001B[0m\u001B[0mmulti\u001B[0m \u001B[1;32mimport\u001B[0m \u001B[0mMultiIndex\u001B[0m\u001B[1;33m\u001B[0m\u001B[1;33m\u001B[0m\u001B[0m\n\u001B[0;32m   6075\u001B[0m \u001B[1;33m\u001B[0m\u001B[0m\n\u001B[1;32m-> 6076\u001B[1;33m         \u001B[0mnew_values\u001B[0m \u001B[1;33m=\u001B[0m \u001B[0mself\u001B[0m\u001B[1;33m.\u001B[0m\u001B[0m_map_values\u001B[0m\u001B[1;33m(\u001B[0m\u001B[0mmapper\u001B[0m\u001B[1;33m,\u001B[0m \u001B[0mna_action\u001B[0m\u001B[1;33m=\u001B[0m\u001B[0mna_action\u001B[0m\u001B[1;33m)\u001B[0m\u001B[1;33m\u001B[0m\u001B[1;33m\u001B[0m\u001B[0m\n\u001B[0m\u001B[0;32m   6077\u001B[0m \u001B[1;33m\u001B[0m\u001B[0m\n\u001B[0;32m   6078\u001B[0m         \u001B[1;31m# we can return a MultiIndex\u001B[0m\u001B[1;33m\u001B[0m\u001B[1;33m\u001B[0m\u001B[0m\n",
      "\u001B[1;32md:\\Users\\fishe\\miniconda3\\envs\\tpm-aabm\\lib\\site-packages\\pandas\\core\\base.py\u001B[0m in \u001B[0;36m_map_values\u001B[1;34m(self, mapper, na_action)\u001B[0m\n\u001B[0;32m    878\u001B[0m \u001B[1;33m\u001B[0m\u001B[0m\n\u001B[0;32m    879\u001B[0m         \u001B[1;31m# mapper is a function\u001B[0m\u001B[1;33m\u001B[0m\u001B[1;33m\u001B[0m\u001B[0m\n\u001B[1;32m--> 880\u001B[1;33m         \u001B[0mnew_values\u001B[0m \u001B[1;33m=\u001B[0m \u001B[0mmap_f\u001B[0m\u001B[1;33m(\u001B[0m\u001B[0mvalues\u001B[0m\u001B[1;33m,\u001B[0m \u001B[0mmapper\u001B[0m\u001B[1;33m)\u001B[0m\u001B[1;33m\u001B[0m\u001B[1;33m\u001B[0m\u001B[0m\n\u001B[0m\u001B[0;32m    881\u001B[0m \u001B[1;33m\u001B[0m\u001B[0m\n\u001B[0;32m    882\u001B[0m         \u001B[1;32mreturn\u001B[0m \u001B[0mnew_values\u001B[0m\u001B[1;33m\u001B[0m\u001B[1;33m\u001B[0m\u001B[0m\n",
      "\u001B[1;32md:\\Users\\fishe\\miniconda3\\envs\\tpm-aabm\\lib\\site-packages\\pandas\\_libs\\lib.pyx\u001B[0m in \u001B[0;36mpandas._libs.lib.map_infer\u001B[1;34m()\u001B[0m\n",
      "\u001B[1;32m~\\AppData\\Local\\Temp/ipykernel_29380/543256940.py\u001B[0m in \u001B[0;36m<lambda>\u001B[1;34m(x)\u001B[0m\n\u001B[0;32m     17\u001B[0m \u001B[1;33m\u001B[0m\u001B[0m\n\u001B[0;32m     18\u001B[0m \u001B[1;31m# attempt to match rdam buurten index to descriptive dataframe\u001B[0m\u001B[1;33m\u001B[0m\u001B[1;33m\u001B[0m\u001B[0m\n\u001B[1;32m---> 19\u001B[1;33m \u001B[0mdescriptive\u001B[0m\u001B[1;33m.\u001B[0m\u001B[0mindex\u001B[0m \u001B[1;33m=\u001B[0m \u001B[0mdescriptive\u001B[0m\u001B[1;33m.\u001B[0m\u001B[0mindex\u001B[0m\u001B[1;33m.\u001B[0m\u001B[0mmap\u001B[0m\u001B[1;33m(\u001B[0m\u001B[1;32mlambda\u001B[0m \u001B[0mx\u001B[0m\u001B[1;33m:\u001B[0m \u001B[0mdifflib\u001B[0m\u001B[1;33m.\u001B[0m\u001B[0mget_close_matches\u001B[0m\u001B[1;33m(\u001B[0m\u001B[0mx\u001B[0m\u001B[1;33m,\u001B[0m \u001B[0mrdam_buurten\u001B[0m\u001B[1;33m.\u001B[0m\u001B[0mindex\u001B[0m\u001B[1;33m)\u001B[0m\u001B[1;33m[\u001B[0m\u001B[1;36m0\u001B[0m\u001B[1;33m]\u001B[0m\u001B[1;33m)\u001B[0m\u001B[1;33m\u001B[0m\u001B[1;33m\u001B[0m\u001B[0m\n\u001B[0m\u001B[0;32m     20\u001B[0m \u001B[0mdescriptive\u001B[0m \u001B[1;33m=\u001B[0m \u001B[0mgpd\u001B[0m\u001B[1;33m.\u001B[0m\u001B[0mGeoDataFrame\u001B[0m\u001B[1;33m(\u001B[0m\u001B[0mdescriptive\u001B[0m\u001B[1;33m,\u001B[0m \u001B[0mgeometry\u001B[0m\u001B[1;33m=\u001B[0m\u001B[0mrdam_buurten\u001B[0m\u001B[1;33m.\u001B[0m\u001B[0mloc\u001B[0m\u001B[1;33m[\u001B[0m\u001B[0mdescriptive\u001B[0m\u001B[1;33m.\u001B[0m\u001B[0mindex\u001B[0m\u001B[1;33m]\u001B[0m\u001B[1;33m.\u001B[0m\u001B[0mgeometry\u001B[0m\u001B[1;33m)\u001B[0m\u001B[1;33m\u001B[0m\u001B[1;33m\u001B[0m\u001B[0m\n\u001B[0;32m     21\u001B[0m \u001B[1;31m# descriptive = rdam_buurten.join(descriptive.astype(dtype='float64'),how='left')\u001B[0m\u001B[1;33m\u001B[0m\u001B[1;33m\u001B[0m\u001B[0m\n",
      "\u001B[1;31mIndexError\u001B[0m: list index out of range"
     ]
    }
   ],
   "source": [
    "\"\"\"\n",
    "Read vector data from rdam vector maps\n",
    "\"\"\"\n",
    "## maybe some visualisations to help\n",
    "overwrite = True  # command to force overwrite\n",
    "if 'buurten' not in locals() or overwrite:\n",
    "    # open files for all buurten in NL\n",
    "    buurten = gpd.read_file(\"data/WijkBuurtkaart_2020_v2/buurt_2020_v2.shp\")\n",
    "    # sort for Rdam\n",
    "    rdam_buurten = buurten[buurten.GM_CODE == 'GM0599'].dropna(how='any')  # corresponds to Rdam, buurt only\n",
    "    # rdam_buurt_2_wijk = rdam_buurten.copy()\n",
    "    # extrarct only the geometry\n",
    "    rdam_buurten = rdam_buurten[['BU_NAAM', 'WK_CODE', 'geometry']].set_index('BU_NAAM')\n",
    "# rdam_buurten.plot()\n",
    "# activate below to save the geometries for Rdam buurten\n",
    "# rdam_buurten.to_file('data/Rdam_buurten_shape.shp')\n",
    "\n",
    "# attempt to match rdam buurten index to descriptive dataframe\n",
    "descriptive.index = descriptive.index.map(lambda x: difflib.get_close_matches(x, rdam_buurten.index)[0])\n",
    "descriptive = gpd.GeoDataFrame(descriptive, geometry=rdam_buurten.loc[descriptive.index].geometry)\n",
    "# descriptive = rdam_buurten.join(descriptive.astype(dtype='float64'),how='left')"
   ],
   "metadata": {
    "collapsed": false,
    "pycharm": {
     "name": "#%%\n"
    }
   }
  },
  {
   "cell_type": "code",
   "execution_count": null,
   "outputs": [],
   "source": [
    "overwrite2 = True\n",
    "\n",
    "if 'wijken' not in locals() or overwrite2:\n",
    "    wijken = gpd.read_file('data/WijkBuurtkaart_2020_v2/wijk_2020_v2.shp')\n",
    "    # filter for Rdam\n",
    "    wijken = wijken[wijken.GM_CODE == 'GM0599'].dropna(how='any')\n",
    "    # preserve only code, name and geometry\n",
    "    wijken = wijken.loc[:, ['WK_CODE', 'WK_NAAM', 'geometry']]\n",
    "\n",
    "    wijken.to_file('data/wijk_geometries.shp')\n",
    "\n",
    "# TODO:use groupby and aggregation to get aggregation. Prolly need to have some mapping from the buurt data to the wijk data\n",
    "# Create mapping from wijk code in buurt data to wijk name in wijk data\n",
    "rdam_buurten['WK_NAAM'] = rdam_buurten.WK_CODE.map(wijken.set_index('WK_CODE').WK_NAAM)"
   ],
   "metadata": {
    "collapsed": false,
    "pycharm": {
     "name": "#%%\n"
    }
   }
  },
  {
   "cell_type": "code",
   "execution_count": null,
   "outputs": [],
   "source": [
    "columns_to_plot = descriptive.columns[:-2].tolist()  # up to 'transactions'\n",
    "# make figures with titles, and no axes\n",
    "for idx, entry in enumerate(columns_to_plot):\n",
    "    fig, ax = plt.subplots()\n",
    "    descriptive.plot(column=entry, ax=ax, missing_kwds={'color': 'lightgrey'},\n",
    "                     cmap='viridis')\n",
    "    # ax.set_axis_off() # turn on for pretty plotting\n",
    "    ax.set_title(f\"{entry} within Rotterdam buurten\")\n",
    "    # fig.show()\n",
    "    fig.savefig(f'data/choropleths_{entry}.jpg', dpi=800)\n",
    "# fig.savefig('data/choropleths.jpg',dpi=600 )\n",
    "# TODO: finish plots for choropleths with titling"
   ],
   "metadata": {
    "collapsed": false,
    "pycharm": {
     "name": "#%%\n"
    }
   }
  },
  {
   "cell_type": "code",
   "execution_count": 13,
   "outputs": [],
   "source": [
    "# sum the shit\n",
    "total_households = households_p_bracket.dropna().to_numpy().sum()\n",
    "# 3033443 households total\n",
    "# agent-ratio of 1:50 leads to ~6000"
   ],
   "metadata": {
    "collapsed": false,
    "pycharm": {
     "name": "#%%\n"
    }
   }
  },
  {
   "cell_type": "code",
   "execution_count": null,
   "outputs": [],
   "source": [
    "\"\"\"\n",
    "Get income distribution  of neighbourhoods\n",
    "-> Used to translate to income distribution of agents\n",
    "Also get number of agents per wijk/buurt\n",
    "Could integrate number of agents per\n",
    "\n",
    "Income table derived from onderzoek010 for proportion of brackets\n",
    "Median income derived from CBS for deciles\n",
    "Therefore, get distribution of agents (function?)\n",
    "\n",
    "\"\"\"\n",
    "\n"
   ],
   "metadata": {
    "collapsed": false,
    "pycharm": {
     "name": "#%%\n"
    }
   }
  }
 ],
 "metadata": {
  "kernelspec": {
   "name": "python3",
   "language": "python",
   "display_name": "Python 3 (ipykernel)"
  },
  "language_info": {
   "codemirror_mode": {
    "name": "ipython",
    "version": 2
   },
   "file_extension": ".py",
   "mimetype": "text/x-python",
   "name": "python",
   "nbconvert_exporter": "python",
   "pygments_lexer": "ipython2",
   "version": "2.7.6"
  }
 },
 "nbformat": 4,
 "nbformat_minor": 0
}